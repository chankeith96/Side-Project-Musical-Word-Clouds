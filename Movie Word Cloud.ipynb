{
 "cells": [
  {
   "cell_type": "markdown",
   "metadata": {},
   "source": [
    "Phantom of the Opera Script Here: https://www.allmusicals.com/lyrics/phantomoftheoperathe/script.htm\n",
    "      \n",
    "Code  \n",
    "Wordcloud package documentation\n",
    "- http://amueller.github.io/word_cloud/auto_examples/index.html\n",
    "- https://github.com/amueller/word_cloud\n",
    "\n",
    "Inspiration  \n",
    "Tiger King Twitter portrait\n",
    "- https://towardsdatascience.com/understanding-the-tiger-king-and-his-tweets-through-python-b928f92af05d  \n",
    "\n",
    "Twitter word clouds\n",
    "- https://medium.com/@shsu14/introduction-to-data-science-custom-twitter-word-clouds-704ec5538f46"
   ]
  },
  {
   "cell_type": "code",
   "execution_count": 1,
   "metadata": {},
   "outputs": [],
   "source": [
    "import nltk"
   ]
  },
  {
   "cell_type": "code",
   "execution_count": 4,
   "metadata": {},
   "outputs": [],
   "source": [
    "# \n",
    "# nltk.download_shell()"
   ]
  },
  {
   "cell_type": "code",
   "execution_count": 5,
   "metadata": {},
   "outputs": [
    {
     "data": {
      "text/plain": [
       "'!\"#$%&\\'()*+,-./:;<=>?@[\\\\]^_`{|}~'"
      ]
     },
     "execution_count": 5,
     "metadata": {},
     "output_type": "execute_result"
    }
   ],
   "source": [
    "# Remove punctuation and common words like \"the\", \"a\", \"if\", etc. aka stop words\n",
    "import string\n",
    "string.punctuation"
   ]
  },
  {
   "cell_type": "code",
   "execution_count": 324,
   "metadata": {},
   "outputs": [],
   "source": [
    "script = open('Script.txt')\n",
    "message = script.read()\n",
    "script.close()\n",
    "# message.readlines()"
   ]
  },
  {
   "cell_type": "code",
   "execution_count": 325,
   "metadata": {},
   "outputs": [
    {
     "data": {
      "text/plain": [
       "'THE STAGE OF THE PARIS OPERA, 1905\\n(The contents of the opera house is being\\nauctioned off. An AUCTIONEER, PORTERS,\\nBIDDERS, and RAOUL, seventy now, but still\\nbright of eye. The action commences with '"
      ]
     },
     "execution_count": 325,
     "metadata": {},
     "output_type": "execute_result"
    }
   ],
   "source": [
    "message[:200]"
   ]
  },
  {
   "cell_type": "code",
   "execution_count": 326,
   "metadata": {},
   "outputs": [],
   "source": [
    "message = message.replace('\\n', ' ')"
   ]
  },
  {
   "cell_type": "code",
   "execution_count": 327,
   "metadata": {},
   "outputs": [
    {
     "data": {
      "text/plain": [
       "'THE STAGE OF THE PARIS OPERA, 1905 (The contents of the opera house is being auctioned off. An AUCTIONEER, PORTERS, BIDDERS, and RAOUL, seventy now, but still bright of eye. The action commences with '"
      ]
     },
     "execution_count": 327,
     "metadata": {},
     "output_type": "execute_result"
    }
   ],
   "source": [
    "message[:200]"
   ]
  },
  {
   "cell_type": "code",
   "execution_count": 328,
   "metadata": {},
   "outputs": [],
   "source": [
    "no_punc_message = [c for c in message if c not in string.punctuation]"
   ]
  },
  {
   "cell_type": "code",
   "execution_count": 329,
   "metadata": {},
   "outputs": [],
   "source": [
    "# no_punc_message"
   ]
  },
  {
   "cell_type": "code",
   "execution_count": 330,
   "metadata": {},
   "outputs": [],
   "source": [
    "no_punc_message = ''.join(no_punc_message)"
   ]
  },
  {
   "cell_type": "code",
   "execution_count": 331,
   "metadata": {},
   "outputs": [
    {
     "data": {
      "text/plain": [
       "'THE STAGE OF THE PARIS OPERA 1905 The contents of the opera house is being auctioned off An AUCTIONEER PORTERS BIDDERS and RAOUL seventy now but still bright of eye The action commences with a blow fr'"
      ]
     },
     "execution_count": 331,
     "metadata": {},
     "output_type": "execute_result"
    }
   ],
   "source": [
    "no_punc_message[:200]"
   ]
  },
  {
   "cell_type": "code",
   "execution_count": 332,
   "metadata": {},
   "outputs": [],
   "source": [
    "message = [word.lower() for word in no_punc_message.split() if not word.isupper()]"
   ]
  },
  {
   "cell_type": "code",
   "execution_count": 333,
   "metadata": {},
   "outputs": [],
   "source": [
    "message = ' '.join(message)"
   ]
  },
  {
   "cell_type": "code",
   "execution_count": 334,
   "metadata": {},
   "outputs": [
    {
     "data": {
      "text/plain": [
       "'1905 the contents of the opera house is being auctioned off an and seventy now but still bright of eye the action commences with a blow from the auctloneers gavel sold your number sir thank you lot 66'"
      ]
     },
     "execution_count": 334,
     "metadata": {},
     "output_type": "execute_result"
    }
   ],
   "source": [
    "message[:200]"
   ]
  },
  {
   "cell_type": "code",
   "execution_count": 335,
   "metadata": {},
   "outputs": [
    {
     "data": {
      "text/plain": [
       "[('prima', 'donna'),\n",
       " ('of', 'the'),\n",
       " ('miss', 'daae'),\n",
       " ('the', 'opera'),\n",
       " ('think', 'of'),\n",
       " ('phantom', 'of'),\n",
       " ('dressing', 'room'),\n",
       " ('box', 'five'),\n",
       " ('angel', 'of'),\n",
       " ('christine', 'daae'),\n",
       " ('of', 'music'),\n",
       " ('once', 'more'),\n",
       " ('the', 'stage'),\n",
       " ('croak', 'croak'),\n",
       " ('the', 'phantom')]"
      ]
     },
     "execution_count": 335,
     "metadata": {},
     "output_type": "execute_result"
    }
   ],
   "source": [
    "words = [word for word in message.split()]\n",
    "\n",
    "# use to find bigrams, which are pairs of words \n",
    "from nltk.collocations import BigramCollocationFinder \n",
    "from nltk.metrics import BigramAssocMeasures \n",
    "\n",
    "biagram_collocation = BigramCollocationFinder.from_words(words) \n",
    "biagram_collocation.nbest(BigramAssocMeasures.likelihood_ratio, 15) "
   ]
  },
  {
   "cell_type": "code",
   "execution_count": 336,
   "metadata": {},
   "outputs": [
    {
     "data": {
      "text/plain": [
       "[('of', 'the', 'opera'),\n",
       " ('the', 'phantom', 'of'),\n",
       " ('angel', 'of', 'music'),\n",
       " ('phantom', 'of', 'the'),\n",
       " ('the', 'angel', 'of'),\n",
       " ('think', 'of', 'me'),\n",
       " ('ladies', 'and', 'gentlemen')]"
      ]
     },
     "execution_count": 336,
     "metadata": {},
     "output_type": "execute_result"
    }
   ],
   "source": [
    "# Loading Libraries \n",
    "from nltk.collocations import TrigramCollocationFinder \n",
    "from nltk.metrics import TrigramAssocMeasures \n",
    "  \n",
    "trigram_collocation = TrigramCollocationFinder.from_words(words) \n",
    "trigram_collocation.apply_freq_filter(7) \n",
    "  \n",
    "trigram_collocation.nbest(TrigramAssocMeasures.likelihood_ratio, 15) "
   ]
  },
  {
   "cell_type": "code",
   "execution_count": 337,
   "metadata": {},
   "outputs": [],
   "source": [
    "from nltk.corpus import stopwords"
   ]
  },
  {
   "cell_type": "code",
   "execution_count": 338,
   "metadata": {},
   "outputs": [],
   "source": [
    "# stopwords.words('english')"
   ]
  },
  {
   "cell_type": "code",
   "execution_count": 347,
   "metadata": {},
   "outputs": [],
   "source": [
    "clean_message = [word for word in message.split() if word.lower() not in stopwords.words('english')]"
   ]
  },
  {
   "cell_type": "code",
   "execution_count": 348,
   "metadata": {},
   "outputs": [],
   "source": [
    "clean_message = ' '.join(clean_message)"
   ]
  },
  {
   "cell_type": "code",
   "execution_count": 349,
   "metadata": {},
   "outputs": [
    {
     "data": {
      "text/plain": [
       "'1905 contents opera house auctioned seventy still bright eye action commences blow auctloneers gavel sold number sir thank lot 663 ladies gentlemen poster houses production hannibal chalumeau showing '"
      ]
     },
     "execution_count": 349,
     "metadata": {},
     "output_type": "execute_result"
    }
   ],
   "source": [
    "clean_message[:200]"
   ]
  },
  {
   "cell_type": "code",
   "execution_count": 350,
   "metadata": {},
   "outputs": [],
   "source": [
    "from collections import Counter"
   ]
  },
  {
   "cell_type": "code",
   "execution_count": 351,
   "metadata": {},
   "outputs": [],
   "source": [
    "c = Counter(clean_message.split())        "
   ]
  },
  {
   "cell_type": "code",
   "execution_count": 352,
   "metadata": {},
   "outputs": [
    {
     "data": {
      "text/plain": [
       "[('christine', 47),\n",
       " ('opera', 41),\n",
       " ('music', 37),\n",
       " ('angel', 36),\n",
       " ('think', 29),\n",
       " ('dont', 27),\n",
       " ('please', 24),\n",
       " ('monsieur', 24),\n",
       " ('one', 24),\n",
       " ('take', 21),\n",
       " ('daae', 21),\n",
       " ('masquerade', 21),\n",
       " ('box', 20),\n",
       " ('see', 20),\n",
       " ('us', 19),\n",
       " ('man', 19),\n",
       " ('must', 19),\n",
       " ('let', 19),\n",
       " ('face', 19),\n",
       " ('gentlemen', 18),\n",
       " ('phantom', 18),\n",
       " ('say', 18),\n",
       " ('go', 18),\n",
       " ('never', 17),\n",
       " ('stage', 17),\n",
       " ('scene', 17),\n",
       " ('love', 17),\n",
       " ('know', 17),\n",
       " ('well', 17),\n",
       " ('sing', 17),\n",
       " ('voice', 17),\n",
       " ('signora', 16),\n",
       " ('raoul', 15),\n",
       " ('new', 15),\n",
       " ('look', 15),\n",
       " ('im', 15),\n",
       " ('behind', 15),\n",
       " ('night', 15),\n",
       " ('find', 14),\n",
       " ('shall', 14),\n",
       " ('still', 13),\n",
       " ('little', 13),\n",
       " ('mind', 13),\n",
       " ('miss', 13),\n",
       " ('chandelier', 12),\n",
       " ('seen', 12),\n",
       " ('hear', 12),\n",
       " ('come', 12),\n",
       " ('youll', 12),\n",
       " ('world', 12)]"
      ]
     },
     "execution_count": 352,
     "metadata": {},
     "output_type": "execute_result"
    }
   ],
   "source": [
    "c.most_common(50)"
   ]
  },
  {
   "cell_type": "code",
   "execution_count": null,
   "metadata": {},
   "outputs": [],
   "source": []
  }
 ],
 "metadata": {
  "kernelspec": {
   "display_name": "Python 3",
   "language": "python",
   "name": "python3"
  },
  "language_info": {
   "codemirror_mode": {
    "name": "ipython",
    "version": 3
   },
   "file_extension": ".py",
   "mimetype": "text/x-python",
   "name": "python",
   "nbconvert_exporter": "python",
   "pygments_lexer": "ipython3",
   "version": "3.7.4"
  }
 },
 "nbformat": 4,
 "nbformat_minor": 4
}
