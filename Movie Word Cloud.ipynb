{
 "cells": [
  {
   "cell_type": "markdown",
   "metadata": {},
   "source": [
    "Phantom of the Opera Script Here: https://www.allmusicals.com/lyrics/phantomoftheoperathe/script.htm\n",
    "      \n",
    "Code  \n",
    "Wordcloud package documentation\n",
    "- http://amueller.github.io/word_cloud/auto_examples/index.html\n",
    "- https://github.com/amueller/word_cloud\n",
    "\n",
    "Inspiration  \n",
    "Tiger King Twitter portrait\n",
    "- https://towardsdatascience.com/understanding-the-tiger-king-and-his-tweets-through-python-b928f92af05d  \n",
    "\n",
    "Twitter word clouds\n",
    "- https://medium.com/@shsu14/introduction-to-data-science-custom-twitter-word-clouds-704ec5538f46"
   ]
  },
  {
   "cell_type": "markdown",
   "metadata": {},
   "source": [
    "data is sometimes difficult to understand. To some, data is a screen filled with zeros and ones surging across the monitor to alien-like digital beeps. That is why data visualization is so important! Personally, I am not a huge fan of theater and operas, and if I was to read through a script, I would swear I've found a cure to insomnia. In this project, I've tried to capture the gist of a famous theatrical show using a picture and a word cloud. They say a picture is worth a thousand words and voila! [show word cloud] they weren't kidding. "
   ]
  },
  {
   "cell_type": "code",
   "execution_count": 52,
   "metadata": {},
   "outputs": [],
   "source": [
    "import nltk\n",
    "from nltk.corpus import stopwords"
   ]
  },
  {
   "cell_type": "code",
   "execution_count": 2,
   "metadata": {},
   "outputs": [],
   "source": [
    "from collections import Counter\n",
    "import matplotlib.pyplot as plt"
   ]
  },
  {
   "cell_type": "code",
   "execution_count": 3,
   "metadata": {},
   "outputs": [],
   "source": [
    "import pandas as pd"
   ]
  },
  {
   "cell_type": "code",
   "execution_count": 4,
   "metadata": {},
   "outputs": [],
   "source": [
    "# Remove punctuation and common words like \"the\", \"a\", \"if\", etc. aka stop words\n",
    "import string"
   ]
  },
  {
   "cell_type": "code",
   "execution_count": null,
   "metadata": {},
   "outputs": [],
   "source": [
    "from selenium import webdriver"
   ]
  },
  {
   "cell_type": "code",
   "execution_count": 5,
   "metadata": {},
   "outputs": [],
   "source": [
    "# Download the stopwords package from the interactive shell\n",
    "# nltk.download_shell()"
   ]
  },
  {
   "cell_type": "code",
   "execution_count": 6,
   "metadata": {},
   "outputs": [],
   "source": [
    "# read in file containing the full script of the musical\n",
    "script = open('Script.txt')\n",
    "message = script.read()\n",
    "script.close()"
   ]
  },
  {
   "cell_type": "code",
   "execution_count": 7,
   "metadata": {},
   "outputs": [
    {
     "data": {
      "text/plain": [
       "'THE STAGE OF THE PARIS OPERA, 1905\\n(The contents of the opera house is being\\nauctioned off. An AUCTIONEER, PORTERS,\\nBIDDERS, and RAOUL, seventy now, but still\\nbright of eye. The action commences with a\\nblow from the AUCTlONEER\\'s gavel)\\n\\nAUCTIONEER\\nSold. Your number, sir? Thank you.\\n\\nLot 663, then, ladies and gentlemen: a poster\\nfor this house\\'s production of \"Hannibal\" by\\nChalumeau.\\n\\nPORTER\\nShowing here.\\n\\nAUCTIONEER\\nDo I have ten francs? Five then. Five I am bid.\\nSix, seven. Against you, sir, se'"
      ]
     },
     "execution_count": 7,
     "metadata": {},
     "output_type": "execute_result"
    }
   ],
   "source": [
    "message[:500]"
   ]
  },
  {
   "cell_type": "markdown",
   "metadata": {},
   "source": [
    "From looking at the first 500 characters of the script, we can see there are certain elements we want to leave off the wordcloud. For example, there are a lot of newline characters represented by '\\n'. We also see a lot of upper case words like AUCTIONEER, PORTERS, and RAOUL that signal each character's actions or lines. Other capitalized words like \"THE STAGE OF THE PARIS OPERA\" describe the setting of the play. Because all of these words aren't spoken in the play, I will take them out of the analysis.     "
   ]
  },
  {
   "cell_type": "code",
   "execution_count": 8,
   "metadata": {},
   "outputs": [],
   "source": [
    "# replace all line breaks with a single space.\n",
    "message = message.replace('\\n', ' ')"
   ]
  },
  {
   "cell_type": "code",
   "execution_count": 9,
   "metadata": {},
   "outputs": [
    {
     "data": {
      "text/plain": [
       "'THE STAGE OF THE PARIS OPERA, 1905 (The contents of the opera house is being auctioned off. An AUCTIONEER, PORTERS, BIDDERS, and RAOUL, seventy now, but still bright of eye. The action commences with '"
      ]
     },
     "execution_count": 9,
     "metadata": {},
     "output_type": "execute_result"
    }
   ],
   "source": [
    "message[:200]"
   ]
  },
  {
   "cell_type": "code",
   "execution_count": 10,
   "metadata": {},
   "outputs": [
    {
     "data": {
      "text/plain": [
       "'!\"#$%&\\'()*+,-./:;<=>?@[\\\\]^_`{|}~'"
      ]
     },
     "execution_count": 10,
     "metadata": {},
     "output_type": "execute_result"
    }
   ],
   "source": [
    "# Python's built in string library contains all the punctuation marks\n",
    "string.punctuation"
   ]
  },
  {
   "cell_type": "code",
   "execution_count": 11,
   "metadata": {},
   "outputs": [],
   "source": [
    "# remove all the punctuation from the message using list comprehension\n",
    "no_punc_message = [c for c in message if c not in string.punctuation]"
   ]
  },
  {
   "cell_type": "code",
   "execution_count": 12,
   "metadata": {},
   "outputs": [],
   "source": [
    "# no_punc_message"
   ]
  },
  {
   "cell_type": "code",
   "execution_count": 13,
   "metadata": {},
   "outputs": [],
   "source": [
    "# put the message back together\n",
    "no_punc_message = ''.join(no_punc_message)"
   ]
  },
  {
   "cell_type": "code",
   "execution_count": 14,
   "metadata": {},
   "outputs": [
    {
     "data": {
      "text/plain": [
       "'THE STAGE OF THE PARIS OPERA 1905 The contents of the opera house is being auctioned off An AUCTIONEER PORTERS BIDDERS and RAOUL seventy now but still bright of eye The action commences with a blow fr'"
      ]
     },
     "execution_count": 14,
     "metadata": {},
     "output_type": "execute_result"
    }
   ],
   "source": [
    "no_punc_message[:200]"
   ]
  },
  {
   "cell_type": "code",
   "execution_count": 15,
   "metadata": {},
   "outputs": [],
   "source": [
    "# remove all the words that are Capitalized since they represent a character speaking or setting the stage\n",
    "message = [word.lower() for word in no_punc_message.split() if not word.isupper()]"
   ]
  },
  {
   "cell_type": "code",
   "execution_count": 16,
   "metadata": {},
   "outputs": [],
   "source": [
    "message = ' '.join(message)"
   ]
  },
  {
   "cell_type": "code",
   "execution_count": 17,
   "metadata": {},
   "outputs": [
    {
     "data": {
      "text/plain": [
       "'1905 the contents of the opera house is being auctioned off an and seventy now but still bright of eye the action commences with a blow from the auctloneers gavel sold your number sir thank you lot 66'"
      ]
     },
     "execution_count": 17,
     "metadata": {},
     "output_type": "execute_result"
    }
   ],
   "source": [
    "message[:200]"
   ]
  },
  {
   "cell_type": "code",
   "execution_count": 18,
   "metadata": {},
   "outputs": [],
   "source": [
    "words = [word for word in message.split()]"
   ]
  },
  {
   "cell_type": "markdown",
   "metadata": {},
   "source": [
    "To get common phrases within the script, I create a counter for the most common n-grams. This approach returns the most common phrases. However, a similar approach with very important subtle differences is finding collocations. According to Wikipedia, \"a collocation is a series of words or terms that co-occur more often than would be expected by chance.\" Whereas the first approach that returns the most frequent phrases can end up with an overrepresentation of phrases made up of common words (i.e. \"is a\"), collocations return the more interesting and informative phrases.\n",
    "\n",
    "A few definitions: a bigram is \"a pair of consecutive written units such as letters, syllables, or words.\" from the Oxford dictionary. \n",
    "Similarly, a trigram is a group of 3 such elements, and an n-gram is a sequence of n items. \n",
    "\n",
    "The nltk library has a BigramCollocationFinder and a TrigramCollocationFinder, but I didn't find and out-of-the-box solutions for collocations greater than trigrams. Once the bigrams or trigrams are extracted form the data, you can then find the ones that have the highest likelihood ratio to find the words that are paired more than you would expect them to by random chance."
   ]
  },
  {
   "cell_type": "markdown",
   "metadata": {},
   "source": [
    "Let's illustrate this point. First, I will just look at the most frequently occuring bigrams, NOT bigram collocations."
   ]
  },
  {
   "cell_type": "code",
   "execution_count": 19,
   "metadata": {},
   "outputs": [
    {
     "data": {
      "text/plain": [
       "{('of', 'the'): 65,\n",
       " ('in', 'the'): 29,\n",
       " ('the', 'opera'): 27,\n",
       " ('to', 'the'): 27,\n",
       " ('from', 'the'): 18,\n",
       " ('think', 'of'): 18,\n",
       " ('angel', 'of'): 18,\n",
       " ('at', 'the'): 17,\n",
       " ('as', 'the'): 17,\n",
       " ('of', 'music'): 17}"
      ]
     },
     "execution_count": 19,
     "metadata": {},
     "output_type": "execute_result"
    }
   ],
   "source": [
    "# https://stackoverflow.com/questions/12488722/counting-bigrams-pair-of-two-words-in-a-file-using-python\n",
    "# Python has a ngram function as part of NLTK library which helps us generate ngrams.\n",
    "dic = dict(Counter(nltk.ngrams(words,2)).most_common(10))\n",
    "dic"
   ]
  },
  {
   "cell_type": "code",
   "execution_count": 20,
   "metadata": {},
   "outputs": [
    {
     "name": "stdout",
     "output_type": "stream",
     "text": [
      "of the\n",
      "in the\n",
      "the opera\n",
      "to the\n",
      "from the\n",
      "think of\n",
      "angel of\n",
      "at the\n",
      "as the\n",
      "of music\n"
     ]
    }
   ],
   "source": [
    "for key, val in dic.items():\n",
    "#     print(key)\n",
    "    print(' '.join(list(key)))"
   ]
  },
  {
   "cell_type": "markdown",
   "metadata": {},
   "source": [
    "You can see that we returned a lot of common word phrases that are not surprising or interesting\n",
    "Next I'll use the BigramCollocationFinder to find bigram collocations"
   ]
  },
  {
   "cell_type": "code",
   "execution_count": 21,
   "metadata": {},
   "outputs": [
    {
     "data": {
      "text/plain": [
       "[('prima', 'donna'),\n",
       " ('of', 'the'),\n",
       " ('miss', 'daae'),\n",
       " ('the', 'opera'),\n",
       " ('think', 'of'),\n",
       " ('phantom', 'of'),\n",
       " ('dressing', 'room'),\n",
       " ('box', 'five'),\n",
       " ('angel', 'of'),\n",
       " ('christine', 'daae')]"
      ]
     },
     "execution_count": 21,
     "metadata": {},
     "output_type": "execute_result"
    }
   ],
   "source": [
    "# Code adpated from https://www.geeksforgeeks.org/nlp-word-collocations/\n",
    "# use to find bigrams, which are pairs of words \n",
    "from nltk.collocations import BigramCollocationFinder \n",
    "from nltk.metrics import BigramAssocMeasures \n",
    "\n",
    "bigram_collocation = BigramCollocationFinder.from_words(words) \n",
    "# only bigrams that appear 3+ times\n",
    "bigram_collocation.apply_freq_filter(3) \n",
    "# return the 10 bigrams with the highest likelihood_ratio\n",
    "bigram_collocation.nbest(BigramAssocMeasures.likelihood_ratio, 10)"
   ]
  },
  {
   "cell_type": "markdown",
   "metadata": {},
   "source": [
    "The bigram collocations definitely look more interesting than before. But I don't have a frequency count for collocations. Instead, I have a 'score' for each n-gram scored according to some association measure in order to determine the relative likelihood of each ngram being a collocation."
   ]
  },
  {
   "cell_type": "code",
   "execution_count": 22,
   "metadata": {},
   "outputs": [
    {
     "data": {
      "text/plain": [
       "[(('prima', 'donna'), 142.5078058555988),\n",
       " (('of', 'the'), 128.836495677668),\n",
       " (('miss', 'daae'), 113.13111810294518),\n",
       " (('the', 'opera'), 104.66023952895308),\n",
       " (('think', 'of'), 97.44155979363116),\n",
       " (('phantom', 'of'), 96.57473352394359),\n",
       " (('dressing', 'room'), 93.91130727807256),\n",
       " (('box', 'five'), 88.75552542354752),\n",
       " (('angel', 'of'), 86.34683864896587),\n",
       " (('christine', 'daae'), 78.60479872835324)]"
      ]
     },
     "execution_count": 22,
     "metadata": {},
     "output_type": "execute_result"
    }
   ],
   "source": [
    "bigram_collocation.score_ngrams(BigramAssocMeasures.likelihood_ratio)[:10]"
   ]
  },
  {
   "cell_type": "markdown",
   "metadata": {},
   "source": [
    "Now I do the same thing with trigrams"
   ]
  },
  {
   "cell_type": "code",
   "execution_count": 23,
   "metadata": {},
   "outputs": [
    {
     "data": {
      "text/plain": [
       "{('of', 'the', 'opera'): 19,\n",
       " ('angel', 'of', 'music'): 17,\n",
       " ('phantom', 'of', 'the'): 15,\n",
       " ('the', 'phantom', 'of'): 13,\n",
       " ('think', 'of', 'me'): 9,\n",
       " ('ladies', 'and', 'gentlemen'): 8,\n",
       " ('the', 'angel', 'of'): 7,\n",
       " ('the', 'opera', 'is'): 5,\n",
       " ('the', 'opera', 'house'): 4,\n",
       " ('sad', 'to', 'return'): 4}"
      ]
     },
     "execution_count": 23,
     "metadata": {},
     "output_type": "execute_result"
    }
   ],
   "source": [
    "dic = dict(Counter(nltk.ngrams(words,3)).most_common(10))\n",
    "dic"
   ]
  },
  {
   "cell_type": "code",
   "execution_count": 24,
   "metadata": {},
   "outputs": [
    {
     "name": "stdout",
     "output_type": "stream",
     "text": [
      "of the opera\n",
      "angel of music\n",
      "phantom of the\n",
      "the phantom of\n",
      "think of me\n",
      "ladies and gentlemen\n",
      "the angel of\n",
      "the opera is\n",
      "the opera house\n",
      "sad to return\n"
     ]
    }
   ],
   "source": [
    "for key, val in dic.items():\n",
    "#     print(key)\n",
    "    print(' '.join(list(key)))"
   ]
  },
  {
   "cell_type": "code",
   "execution_count": 25,
   "metadata": {},
   "outputs": [
    {
     "data": {
      "text/plain": [
       "[('of', 'the', 'opera'),\n",
       " ('the', 'phantom', 'of'),\n",
       " ('angel', 'of', 'music'),\n",
       " ('phantom', 'of', 'the'),\n",
       " ('the', 'angel', 'of'),\n",
       " ('the', 'arrival', 'of'),\n",
       " ('the', 'role', 'of'),\n",
       " ('the', 'music', 'of'),\n",
       " ('sing', 'prima', 'donna'),\n",
       " ('prima', 'donna', 'once'),\n",
       " ('think', 'of', 'me'),\n",
       " ('ladies', 'and', 'gentlemen'),\n",
       " ('the', 'opera', 'house'),\n",
       " ('of', 'the', 'night'),\n",
       " ('of', 'the', 'music')]"
      ]
     },
     "execution_count": 25,
     "metadata": {},
     "output_type": "execute_result"
    }
   ],
   "source": [
    "# Loading Libraries \n",
    "from nltk.collocations import TrigramCollocationFinder \n",
    "from nltk.metrics import TrigramAssocMeasures \n",
    "  \n",
    "trigram_collocation = TrigramCollocationFinder.from_words(words) \n",
    "trigram_collocation.apply_freq_filter(3) \n",
    "  \n",
    "trigram_collocation.nbest(TrigramAssocMeasures.likelihood_ratio, 15) "
   ]
  },
  {
   "cell_type": "code",
   "execution_count": 26,
   "metadata": {},
   "outputs": [
    {
     "data": {
      "text/plain": [
       "{('phantom', 'of', 'the', 'opera'): 15,\n",
       " ('the', 'phantom', 'of', 'the'): 13,\n",
       " ('the', 'angel', 'of', 'music'): 7,\n",
       " ('of', 'the', 'opera', 'is'): 5,\n",
       " ('think', 'of', 'me', 'think'): 4,\n",
       " ('of', 'me', 'think', 'of'): 4,\n",
       " ('the', 'music', 'of', 'the'): 4,\n",
       " ('music', 'of', 'the', 'night'): 4,\n",
       " ('thats', 'all', 'ask', 'of'): 4,\n",
       " ('all', 'ask', 'of', 'you'): 4}"
      ]
     },
     "execution_count": 26,
     "metadata": {},
     "output_type": "execute_result"
    }
   ],
   "source": [
    "dict(Counter(nltk.ngrams(words,4)).most_common(10))"
   ]
  },
  {
   "cell_type": "code",
   "execution_count": 27,
   "metadata": {},
   "outputs": [
    {
     "data": {
      "text/plain": [
       "{('the', 'phantom', 'of', 'the', 'opera'): 13,\n",
       " ('phantom', 'of', 'the', 'opera', 'is'): 5,\n",
       " ('think', 'of', 'me', 'think', 'of'): 4,\n",
       " ('the', 'music', 'of', 'the', 'night'): 4,\n",
       " ('thats', 'all', 'ask', 'of', 'you'): 4,\n",
       " ('of', 'me', 'think', 'of', 'me'): 3,\n",
       " ('hes', 'there', 'the', 'phantom', 'of'): 3,\n",
       " ('there', 'the', 'phantom', 'of', 'the'): 3,\n",
       " ('sing', 'prima', 'donna', 'once', 'more'): 3,\n",
       " ('say', 'youll', 'share', 'with', 'me'): 3}"
      ]
     },
     "execution_count": 27,
     "metadata": {},
     "output_type": "execute_result"
    }
   ],
   "source": [
    "dict(Counter(nltk.ngrams(words,5)).most_common(10))"
   ]
  },
  {
   "cell_type": "code",
   "execution_count": 28,
   "metadata": {},
   "outputs": [],
   "source": [
    "# stopwords.words('english')"
   ]
  },
  {
   "cell_type": "code",
   "execution_count": 29,
   "metadata": {},
   "outputs": [],
   "source": [
    "clean_message = [word for word in message.split() if word.lower() not in stopwords.words('english')]"
   ]
  },
  {
   "cell_type": "code",
   "execution_count": 30,
   "metadata": {},
   "outputs": [],
   "source": [
    "clean_message = ' '.join(clean_message)"
   ]
  },
  {
   "cell_type": "code",
   "execution_count": 31,
   "metadata": {},
   "outputs": [
    {
     "data": {
      "text/plain": [
       "'1905 contents opera house auctioned seventy still bright eye action commences blow auctloneers gavel sold number sir thank lot 663 ladies gentlemen poster houses production hannibal chalumeau showing '"
      ]
     },
     "execution_count": 31,
     "metadata": {},
     "output_type": "execute_result"
    }
   ],
   "source": [
    "clean_message[:200]"
   ]
  },
  {
   "cell_type": "code",
   "execution_count": 32,
   "metadata": {},
   "outputs": [],
   "source": [
    "cleaned_words = [word for word in clean_message.split()]"
   ]
  },
  {
   "cell_type": "code",
   "execution_count": 33,
   "metadata": {},
   "outputs": [],
   "source": [
    "c = Counter(cleaned_words)        "
   ]
  },
  {
   "cell_type": "code",
   "execution_count": 34,
   "metadata": {},
   "outputs": [
    {
     "data": {
      "text/plain": [
       "[('christine', 47),\n",
       " ('opera', 41),\n",
       " ('music', 37),\n",
       " ('angel', 36),\n",
       " ('think', 29),\n",
       " ('dont', 27),\n",
       " ('please', 24),\n",
       " ('monsieur', 24),\n",
       " ('one', 24),\n",
       " ('take', 21),\n",
       " ('daae', 21),\n",
       " ('masquerade', 21),\n",
       " ('box', 20),\n",
       " ('see', 20),\n",
       " ('us', 19),\n",
       " ('man', 19),\n",
       " ('must', 19),\n",
       " ('let', 19),\n",
       " ('face', 19),\n",
       " ('gentlemen', 18),\n",
       " ('phantom', 18),\n",
       " ('say', 18),\n",
       " ('go', 18),\n",
       " ('never', 17),\n",
       " ('stage', 17),\n",
       " ('scene', 17),\n",
       " ('love', 17),\n",
       " ('know', 17),\n",
       " ('well', 17),\n",
       " ('sing', 17),\n",
       " ('voice', 17),\n",
       " ('signora', 16),\n",
       " ('raoul', 15),\n",
       " ('new', 15),\n",
       " ('look', 15),\n",
       " ('im', 15),\n",
       " ('behind', 15),\n",
       " ('night', 15),\n",
       " ('find', 14),\n",
       " ('shall', 14),\n",
       " ('still', 13),\n",
       " ('little', 13),\n",
       " ('mind', 13),\n",
       " ('miss', 13),\n",
       " ('chandelier', 12),\n",
       " ('seen', 12),\n",
       " ('hear', 12),\n",
       " ('come', 12),\n",
       " ('youll', 12),\n",
       " ('world', 12),\n",
       " ('five', 11),\n",
       " ('away', 11),\n",
       " ('andre', 11),\n",
       " ('hes', 11),\n",
       " ('room', 11),\n",
       " ('ladies', 10),\n",
       " ('said', 10),\n",
       " ('may', 10),\n",
       " ('great', 10),\n",
       " ('two', 10),\n",
       " ('back', 10),\n",
       " ('carlotta', 10),\n",
       " ('remember', 10),\n",
       " ('around', 10),\n",
       " ('make', 10),\n",
       " ('mask', 10),\n",
       " ('eyes', 10),\n",
       " ('cannot', 10)]"
      ]
     },
     "execution_count": 34,
     "metadata": {},
     "output_type": "execute_result"
    }
   ],
   "source": [
    "c.most_common(68)"
   ]
  },
  {
   "cell_type": "markdown",
   "metadata": {},
   "source": [
    "Let's visualize the words in the Phantom of the Opera"
   ]
  },
  {
   "cell_type": "code",
   "execution_count": 35,
   "metadata": {},
   "outputs": [],
   "source": [
    "# Code adapted from https://towardsdatascience.com/understanding-the-tiger-king-and-his-tweets-through-python-b928f92af05d\n",
    "# Analyze Frequency\n",
    "frequency_dist = nltk.FreqDist(cleaned_words)\n",
    "word_dict = sorted((value, key) for (key,value) in frequency_dist.items())\n",
    "x, y = zip(*word_dict) # unpack a list of pairs into two tuples"
   ]
  },
  {
   "cell_type": "code",
   "execution_count": 36,
   "metadata": {},
   "outputs": [
    {
     "name": "stderr",
     "output_type": "stream",
     "text": [
      "findfont: Font family ['Arial Black'] not found. Falling back to DejaVu Sans.\n",
      "findfont: Font family ['Arial Black'] not found. Falling back to DejaVu Sans.\n"
     ]
    },
    {
     "data": {
      "image/png": "[encoded data removed]",
      "text/plain": [
       "<Figure size 432x1008 with 1 Axes>"
      ]
     },
     "metadata": {
      "needs_background": "light"
     },
     "output_type": "display_data"
    }
   ],
   "source": [
    "import matplotlib.pyplot as plt\n",
    "num_to_show = 40\n",
    "plt.figure(figsize=[6,14])\n",
    "plt.plot(x[-num_to_show:], y[-num_to_show:],lw=6,c='r')\n",
    "plt.yticks(fontname = \"Arial Black\", fontsize=20)\n",
    "plt.xlabel('Num Times Used',fontsize=14, fontname = \"Arial Black\")\n",
    "plt.xticks(fontsize=14, fontname = \"Arial Black\")\n",
    "# plt.savefig(\"joes_most_common_terms.png\", format=\"png\")\n",
    "plt.show()"
   ]
  },
  {
   "cell_type": "code",
   "execution_count": 37,
   "metadata": {},
   "outputs": [
    {
     "data": {
      "text/html": [
       "<div>\n",
       "<style scoped>\n",
       "    .dataframe tbody tr th:only-of-type {\n",
       "        vertical-align: middle;\n",
       "    }\n",
       "\n",
       "    .dataframe tbody tr th {\n",
       "        vertical-align: top;\n",
       "    }\n",
       "\n",
       "    .dataframe thead th {\n",
       "        text-align: right;\n",
       "    }\n",
       "</style>\n",
       "<table border=\"1\" class=\"dataframe\">\n",
       "  <thead>\n",
       "    <tr style=\"text-align: right;\">\n",
       "      <th></th>\n",
       "      <th>Word(s)</th>\n",
       "      <th>Count</th>\n",
       "    </tr>\n",
       "  </thead>\n",
       "  <tbody>\n",
       "    <tr>\n",
       "      <th>0</th>\n",
       "      <td>christine</td>\n",
       "      <td>47</td>\n",
       "    </tr>\n",
       "    <tr>\n",
       "      <th>1</th>\n",
       "      <td>opera</td>\n",
       "      <td>41</td>\n",
       "    </tr>\n",
       "    <tr>\n",
       "      <th>2</th>\n",
       "      <td>music</td>\n",
       "      <td>37</td>\n",
       "    </tr>\n",
       "    <tr>\n",
       "      <th>3</th>\n",
       "      <td>angel</td>\n",
       "      <td>36</td>\n",
       "    </tr>\n",
       "    <tr>\n",
       "      <th>4</th>\n",
       "      <td>think</td>\n",
       "      <td>29</td>\n",
       "    </tr>\n",
       "  </tbody>\n",
       "</table>\n",
       "</div>"
      ],
      "text/plain": [
       "     Word(s)  Count\n",
       "0  christine     47\n",
       "1      opera     41\n",
       "2      music     37\n",
       "3      angel     36\n",
       "4      think     29"
      ]
     },
     "execution_count": 37,
     "metadata": {},
     "output_type": "execute_result"
    }
   ],
   "source": [
    "most_common_words_df = pd.DataFrame(c.most_common(68), columns=['Word(s)', 'Count'])\n",
    "most_common_words_df.head()"
   ]
  },
  {
   "cell_type": "code",
   "execution_count": 92,
   "metadata": {},
   "outputs": [],
   "source": [
    "# copy the dataframe to clipboard. The excel argument copies in a CSV format, and I leave off the indices and header row  \n",
    "most_common_words_df.to_clipboard(excel=True, index=False, header=False)"
   ]
  },
  {
   "cell_type": "markdown",
   "metadata": {},
   "source": [
    "# Creating Word Cloud in Browser\n",
    "This section automatically launches a web browser that goes to wordart.com and populates the text input with the words and frequency you have extracted from the movie script"
   ]
  },
  {
   "cell_type": "markdown",
   "metadata": {},
   "source": [
    "For the next part, you will have to download a driver. Every browser has its own driver. Selenium is just a tool which enables to you to \"talk\" to the browser. Here, I will be using Google Chrome as my preferred browser. You can download the ChromeDriver here: https://sites.google.com/a/chromium.org/chromedriver/downloads\n",
    "\n",
    "Then you have multiple options:\n",
    "1) add it to your system path https://zwbetz.com/download-chromedriver-binary-and-add-to-your-path-for-automated-functional-testing/\n",
    "2) put it in the same directory as your python script\n",
    "3) specify the location directly via executable_path like:\n",
    "driver = webdriver.Chrome(executable_path='C:/path/to/chromedriver.exe')\n",
    "\n",
    "Source: https://stackoverflow.com/questions/40555930/selenium-chromedriver-executable-needs-to-be-in-path"
   ]
  },
  {
   "cell_type": "markdown",
   "metadata": {},
   "source": [
    "I understand the following code is not super helpful in the sense that it takes more time and effort to automate this process than to navigate to wordart.com in your own browser and paste your words into the UI yourself. I did this for my self-learning and practicing concepts for using selenium, but feel free to skip over this section. "
   ]
  },
  {
   "cell_type": "code",
   "execution_count": 94,
   "metadata": {},
   "outputs": [],
   "source": [
    "from selenium.webdriver.chrome.options import Options\n",
    "chrome_options = Options()\n",
    "# incognito window\n",
    "# chrome_options.add_argument(\"--incognito\")\n",
    "chrome_options.add_argument('start-maximized')\n",
    "\n",
    "browser = webdriver.Chrome(options=chrome_options)\n",
    "browser.get('https://wordart.com/create')\n",
    "\n",
    "# When a page is loaded by the browser, the elements within that page may load at different time intervals. \n",
    "# If an element has not yet loaded in the webpage, the find_element_by_css_selector function may raise an NoSuchElementException exception. \n",
    "# Using waits, we can solve this issue. An implicit wait makes WebDriver poll the page for a certain amount of time when trying to locate an element, before throwing an exception.\n",
    "# https://selenium-python.readthedocs.io/waits.html\n",
    "browser.implicitly_wait(10) # seconds\n",
    "\n",
    "# select the Import button under the WORDS banner using the CSS selector\n",
    "words_import_elem = browser.find_element_by_css_selector('#root > div > div.app-body > div.app-body-pane.app-body-left-pane > div > div.accordion-section.selected > div.accordion-section-body > div > div:nth-child(1) > span.words-import > button') \n",
    "words_import_elem.click()\n",
    "# select the text box and paste in words and values that were copied onto the clipboard\n",
    "textbox_elem = browser.find_element_by_css_selector('body > div:nth-child(14) > div > div.modal.fade.show > div > div > div.modal-body > div:nth-child(1) > textarea')\n",
    "textbox_elem.click()\n",
    "import pyautogui #allows you to control your keyboard using python\n",
    "pyautogui.hotkey('ctrl', 'v')\n",
    "# make sure the CSV format box is checked if importing from Excel\n",
    "checkbox_elem = browser.find_element_by_css_selector('body > div:nth-child(14) > div > div.modal.fade.show > div > div > div.modal-body > div.words-import-options > span.component-checkbox.noselect.words-import-options-csv-format > label > div')\n",
    "checkbox_elem.click() \n",
    "# click the import words button to submit\n",
    "import_words_elem = browser.find_element_by_css_selector('body > div:nth-child(14) > div > div.modal.fade.show > div > div > div.modal-footer > button.btn.btn-dark')\n",
    "import_words_elem.click()\n",
    "# click the visualize button to visualize the word cloud\n",
    "visualize_elem = browser.find_element_by_css_selector('#root > div > div.app-body > div.app-body-pane.app-body-right-pane > div.sub-panel > button.btn.btn-danger')\n",
    "visualize_elem.click()\n"
   ]
  },
  {
   "cell_type": "markdown",
   "metadata": {},
   "source": [
    "# use opencv to make my own picture, like make mask negative and add a rose\n",
    "# use pyautogui to paste to wordart and design word cloud.   "
   ]
  },
  {
   "cell_type": "markdown",
   "metadata": {},
   "source": [
    "The last step is to consult with Emily about the most common words, importance of the  bigrams and collocations, and of course how the word cloud design.\n",
    "Like any major data science project, working closely with the subject matter experts is critical to a prject's success. [insert  something to elaborate on this idea]\n"
   ]
  },
  {
   "cell_type": "code",
   "execution_count": null,
   "metadata": {},
   "outputs": [],
   "source": []
  }
 ],
 "metadata": {
  "kernelspec": {
   "display_name": "Python 3",
   "language": "python",
   "name": "python3"
  },
  "language_info": {
   "codemirror_mode": {
    "name": "ipython",
    "version": 3
   },
   "file_extension": ".py",
   "mimetype": "text/x-python",
   "name": "python",
   "nbconvert_exporter": "python",
   "pygments_lexer": "ipython3",
   "version": "3.7.4"
  }
 },
 "nbformat": 4,
 "nbformat_minor": 4
}
