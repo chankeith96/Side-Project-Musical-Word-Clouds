{
 "cells": [
  {
   "cell_type": "markdown",
   "metadata": {},
   "source": [
    "Phantom of the Opera Script Here: https://www.allmusicals.com/lyrics/phantomoftheoperathe/script.htm\n",
    "      \n",
    "Code  \n",
    "Wordcloud package documentation\n",
    "- http://amueller.github.io/word_cloud/auto_examples/index.html\n",
    "- https://github.com/amueller/word_cloud\n",
    "\n",
    "Inspiration  \n",
    "Tiger King Twitter portrait\n",
    "- https://towardsdatascience.com/understanding-the-tiger-king-and-his-tweets-through-python-b928f92af05d  \n",
    "\n",
    "Twitter word clouds\n",
    "- https://medium.com/@shsu14/introduction-to-data-science-custom-twitter-word-clouds-704ec5538f46"
   ]
  },
  {
   "cell_type": "markdown",
   "metadata": {},
   "source": [
    "data is sometimes difficult to understand. To some, data is a screen filled with zeros and ones surging across the monitor to alien-like digital beeps. That is why data visualization is so important! Personally, I am not a huge fan of theater and operas, and if I was to read through a script, I would swear I've found a cure to insomnia. In this project, I've tried to capture the gist of a famous theatrical show using a picture and a word cloud. They say a picture is worth a thousand words and voila! [show word cloud] they weren't kidding. "
   ]
  },
  {
   "cell_type": "markdown",
   "metadata": {},
   "source": [
    "# Import Statements"
   ]
  },
  {
   "cell_type": "code",
   "execution_count": 1,
   "metadata": {},
   "outputs": [],
   "source": [
    "from collections import Counter\n",
    "import pandas as pd\n",
    "import matplotlib.pyplot as plt\n",
    "import string\n",
    "\n",
    "# import the natural learning toolkit for natural language processing\n",
    "import nltk\n",
    "from nltk.corpus import stopwords\n",
    "\n",
    "# Selemium Module opens a web browser that you can programatically control from your python program\n",
    "from selenium import webdriver"
   ]
  },
  {
   "cell_type": "markdown",
   "metadata": {},
   "source": [
    "# nltk Stopwords Download"
   ]
  },
  {
   "cell_type": "code",
   "execution_count": 2,
   "metadata": {},
   "outputs": [],
   "source": [
    "# Download the stopwords package from the interactive shell. You'll only have to do this once and if you haven't downloaded this library before\n",
    "# nltk.download_shell()"
   ]
  },
  {
   "cell_type": "markdown",
   "metadata": {},
   "source": [
    "# Text Input"
   ]
  },
  {
   "cell_type": "markdown",
   "metadata": {},
   "source": [
    "Copy and paste the full script of the musical/movie/book to a text file and read it using python "
   ]
  },
  {
   "cell_type": "code",
   "execution_count": 3,
   "metadata": {},
   "outputs": [],
   "source": [
    "# read in file containing the full script of the musical\n",
    "script = open('Script.txt')\n",
    "text = script.read()\n",
    "script.close()"
   ]
  },
  {
   "cell_type": "code",
   "execution_count": 4,
   "metadata": {},
   "outputs": [
    {
     "data": {
      "text/plain": [
       "'THE STAGE OF THE PARIS OPERA, 1905\\n(The contents of the opera house is being\\nauctioned off. An AUCTIONEER, PORTERS,\\nBIDDERS, and RAOUL, seventy now, but still\\nbright of eye. The action commences with a\\nblow from the AUCTlONEER\\'s gavel)\\n\\nAUCTIONEER\\nSold. Your number, sir? Thank you.\\n\\nLot 663, then, ladies and gentlemen: a poster\\nfor this house\\'s production of \"Hannibal\" by\\nChalumeau.\\n\\nPORTER\\nShowing here.\\n\\nAUCTIONEER\\nDo I have ten francs? Five then. Five I am bid.\\nSix, seven. Against you, sir, se'"
      ]
     },
     "execution_count": 4,
     "metadata": {},
     "output_type": "execute_result"
    }
   ],
   "source": [
    "text[:500]"
   ]
  },
  {
   "cell_type": "markdown",
   "metadata": {},
   "source": [
    "From looking at the first 500 characters of the script, we can see there are certain elements we want to leave off the wordcloud. For example, there are a lot of newline characters represented by '\\n'. We also see a lot of upper case words like AUCTIONEER, PORTERS, and RAOUL that signal each character's actions or lines. Other capitalized words like \"THE STAGE OF THE PARIS OPERA\" describe the setting of the play. Because all of these words aren't spoken in the play, I will take them out of the analysis.     "
   ]
  },
  {
   "cell_type": "code",
   "execution_count": 5,
   "metadata": {},
   "outputs": [],
   "source": [
    "# replace all line breaks with a single space.\n",
    "text = text.replace('\\n', ' ')"
   ]
  },
  {
   "cell_type": "code",
   "execution_count": 6,
   "metadata": {},
   "outputs": [
    {
     "data": {
      "text/plain": [
       "'THE STAGE OF THE PARIS OPERA, 1905 (The contents of the opera house is being auctioned off. An AUCTIONEER, PORTERS, BIDDERS, and RAOUL, seventy now, but still bright of eye. The action commences with '"
      ]
     },
     "execution_count": 6,
     "metadata": {},
     "output_type": "execute_result"
    }
   ],
   "source": [
    "# double check to see if line breaks were removed as intended\n",
    "text[:200]"
   ]
  },
  {
   "cell_type": "markdown",
   "metadata": {},
   "source": [
    "I don't want to include any punctuation marks in my word cloud so let's remove those as well"
   ]
  },
  {
   "cell_type": "code",
   "execution_count": 7,
   "metadata": {},
   "outputs": [
    {
     "data": {
      "text/plain": [
       "'!\"#$%&\\'()*+,-./:;<=>?@[\\\\]^_`{|}~'"
      ]
     },
     "execution_count": 7,
     "metadata": {},
     "output_type": "execute_result"
    }
   ],
   "source": [
    "# Python's built in string library contains all the punctuation marks\n",
    "string.punctuation"
   ]
  },
  {
   "cell_type": "code",
   "execution_count": 8,
   "metadata": {},
   "outputs": [],
   "source": [
    "# remove all the punctuation from the text using list comprehension\n",
    "no_punc_text = [c for c in text if c not in string.punctuation]"
   ]
  },
  {
   "cell_type": "code",
   "execution_count": 9,
   "metadata": {},
   "outputs": [],
   "source": [
    "# no_punc_text"
   ]
  },
  {
   "cell_type": "code",
   "execution_count": 10,
   "metadata": {},
   "outputs": [],
   "source": [
    "# put the text back together\n",
    "no_punc_text = ''.join(no_punc_text)"
   ]
  },
  {
   "cell_type": "code",
   "execution_count": 11,
   "metadata": {},
   "outputs": [
    {
     "data": {
      "text/plain": [
       "'THE STAGE OF THE PARIS OPERA 1905 The contents of the opera house is being auctioned off An AUCTIONEER PORTERS BIDDERS and RAOUL seventy now but still bright of eye The action commences with a blow fr'"
      ]
     },
     "execution_count": 11,
     "metadata": {},
     "output_type": "execute_result"
    }
   ],
   "source": [
    "no_punc_text[:200]"
   ]
  },
  {
   "cell_type": "code",
   "execution_count": 12,
   "metadata": {},
   "outputs": [],
   "source": [
    "# remove all the words that are Capitalized since they represent a character speaking or setting the stage\n",
    "text = [word.lower() for word in no_punc_text.split() if (not word.isupper() or word == 'I')]"
   ]
  },
  {
   "cell_type": "code",
   "execution_count": 13,
   "metadata": {},
   "outputs": [],
   "source": [
    "text = ' '.join(text)"
   ]
  },
  {
   "cell_type": "code",
   "execution_count": 14,
   "metadata": {},
   "outputs": [
    {
     "data": {
      "text/plain": [
       "'1905 the contents of the opera house is being auctioned off an and seventy now but still bright of eye the action commences with a blow from the auctloneers gavel sold your number sir thank you lot 66'"
      ]
     },
     "execution_count": 14,
     "metadata": {},
     "output_type": "execute_result"
    }
   ],
   "source": [
    "text[:200]"
   ]
  },
  {
   "cell_type": "code",
   "execution_count": 15,
   "metadata": {},
   "outputs": [],
   "source": [
    "# Create a list of words in the text\n",
    "words = [word for word in text.split()]"
   ]
  },
  {
   "cell_type": "code",
   "execution_count": 16,
   "metadata": {},
   "outputs": [
    {
     "data": {
      "text/plain": [
       "[('the', 521),\n",
       " ('to', 242),\n",
       " ('you', 228),\n",
       " ('of', 220),\n",
       " ('and', 212),\n",
       " ('a', 181),\n",
       " ('is', 141),\n",
       " ('in', 139),\n",
       " ('i', 133),\n",
       " ('me', 107)]"
      ]
     },
     "execution_count": 16,
     "metadata": {},
     "output_type": "execute_result"
    }
   ],
   "source": [
    "c = Counter(words)        \n",
    "c.most_common(10)"
   ]
  },
  {
   "cell_type": "code",
   "execution_count": 17,
   "metadata": {},
   "outputs": [],
   "source": [
    "# As expected, the most commonly occuring words are very commeon words.\n",
    "# Let's remove these common words like \"the\", \"a\", \"if\", etc. aka stop words\n",
    "# The nltk library contains the most common stopwords\n",
    "# stopwords.words('english')"
   ]
  },
  {
   "cell_type": "code",
   "execution_count": 18,
   "metadata": {},
   "outputs": [],
   "source": [
    "clean_words = [word for word in words if word.lower() not in stopwords.words('english')]"
   ]
  },
  {
   "cell_type": "code",
   "execution_count": 19,
   "metadata": {},
   "outputs": [],
   "source": [
    "clean_text = ' '.join(clean_words)"
   ]
  },
  {
   "cell_type": "code",
   "execution_count": 20,
   "metadata": {},
   "outputs": [
    {
     "data": {
      "text/plain": [
       "'1905 contents opera house auctioned seventy still bright eye action commences blow auctloneers gavel sold number sir thank lot 663 ladies gentlemen poster houses production hannibal chalumeau showing '"
      ]
     },
     "execution_count": 20,
     "metadata": {},
     "output_type": "execute_result"
    }
   ],
   "source": [
    "clean_text[:200]"
   ]
  },
  {
   "cell_type": "code",
   "execution_count": 21,
   "metadata": {},
   "outputs": [],
   "source": [
    "c = Counter(clean_words)        "
   ]
  },
  {
   "cell_type": "code",
   "execution_count": 22,
   "metadata": {},
   "outputs": [
    {
     "data": {
      "text/plain": [
       "[('christine', 47),\n",
       " ('opera', 41),\n",
       " ('music', 37),\n",
       " ('angel', 36),\n",
       " ('think', 29),\n",
       " ('dont', 27),\n",
       " ('please', 24),\n",
       " ('monsieur', 24),\n",
       " ('one', 24),\n",
       " ('take', 21),\n",
       " ('daae', 21),\n",
       " ('masquerade', 21),\n",
       " ('box', 20),\n",
       " ('see', 20),\n",
       " ('us', 19),\n",
       " ('man', 19),\n",
       " ('must', 19),\n",
       " ('let', 19),\n",
       " ('face', 19),\n",
       " ('gentlemen', 18),\n",
       " ('phantom', 18),\n",
       " ('say', 18),\n",
       " ('go', 18),\n",
       " ('never', 17),\n",
       " ('stage', 17),\n",
       " ('scene', 17),\n",
       " ('love', 17),\n",
       " ('know', 17),\n",
       " ('well', 17),\n",
       " ('sing', 17),\n",
       " ('voice', 17),\n",
       " ('signora', 16),\n",
       " ('raoul', 15),\n",
       " ('new', 15),\n",
       " ('look', 15),\n",
       " ('im', 15),\n",
       " ('behind', 15),\n",
       " ('night', 15),\n",
       " ('find', 14),\n",
       " ('shall', 14),\n",
       " ('still', 13),\n",
       " ('little', 13),\n",
       " ('mind', 13),\n",
       " ('miss', 13),\n",
       " ('chandelier', 12),\n",
       " ('seen', 12),\n",
       " ('hear', 12),\n",
       " ('come', 12),\n",
       " ('youll', 12),\n",
       " ('world', 12),\n",
       " ('five', 11),\n",
       " ('away', 11),\n",
       " ('andre', 11),\n",
       " ('hes', 11),\n",
       " ('room', 11),\n",
       " ('ladies', 10),\n",
       " ('said', 10),\n",
       " ('may', 10),\n",
       " ('great', 10),\n",
       " ('two', 10),\n",
       " ('back', 10),\n",
       " ('carlotta', 10),\n",
       " ('remember', 10),\n",
       " ('around', 10),\n",
       " ('make', 10),\n",
       " ('mask', 10),\n",
       " ('eyes', 10),\n",
       " ('cannot', 10)]"
      ]
     },
     "execution_count": 22,
     "metadata": {},
     "output_type": "execute_result"
    }
   ],
   "source": [
    "c.most_common(68)"
   ]
  },
  {
   "cell_type": "markdown",
   "metadata": {},
   "source": [
    "Let's visualize the words in the Phantom of the Opera"
   ]
  },
  {
   "cell_type": "code",
   "execution_count": 23,
   "metadata": {},
   "outputs": [],
   "source": [
    "# Code adapted from https://towardsdatascience.com/understanding-the-tiger-king-and-his-tweets-through-python-b928f92af05d\n",
    "# Analyze Frequency\n",
    "frequency_dist = nltk.FreqDist(clean_words)\n",
    "word_dict = sorted(((count, word) for (word,count) in frequency_dist.items()))#, reverse=True)\n",
    "counts, word = zip(*word_dict) # unpack a list of pairs into two tuples"
   ]
  },
  {
   "cell_type": "code",
   "execution_count": 24,
   "metadata": {},
   "outputs": [
    {
     "name": "stderr",
     "output_type": "stream",
     "text": [
      "findfont: Font family ['Arial Black'] not found. Falling back to DejaVu Sans.\n",
      "findfont: Font family ['Arial Black'] not found. Falling back to DejaVu Sans.\n"
     ]
    },
    {
     "data": {
      "image/png": "[encoded data removed]",
      "text/plain": [
       "<Figure size 432x1008 with 1 Axes>"
      ]
     },
     "metadata": {
      "needs_background": "light"
     },
     "output_type": "display_data"
    }
   ],
   "source": [
    "import matplotlib.pyplot as plt\n",
    "num_to_show = 40\n",
    "plt.figure(figsize=[6,14])\n",
    "plt.plot(counts[-num_to_show:], word[-num_to_show:],lw=6,c='r')\n",
    "plt.ylabel('Word',fontsize=14, fontname = \"Arial Black\")\n",
    "plt.yticks(fontname = \"Arial Black\", fontsize=20)\n",
    "plt.xlabel('Num Times Used',fontsize=14, fontname = \"Arial Black\")\n",
    "plt.xticks(fontsize=14, fontname = \"Arial Black\")\n",
    "plt.show()"
   ]
  },
  {
   "cell_type": "code",
   "execution_count": 25,
   "metadata": {},
   "outputs": [
    {
     "data": {
      "text/html": [
       "<div>\n",
       "<style scoped>\n",
       "    .dataframe tbody tr th:only-of-type {\n",
       "        vertical-align: middle;\n",
       "    }\n",
       "\n",
       "    .dataframe tbody tr th {\n",
       "        vertical-align: top;\n",
       "    }\n",
       "\n",
       "    .dataframe thead th {\n",
       "        text-align: right;\n",
       "    }\n",
       "</style>\n",
       "<table border=\"1\" class=\"dataframe\">\n",
       "  <thead>\n",
       "    <tr style=\"text-align: right;\">\n",
       "      <th></th>\n",
       "      <th>Word(s)</th>\n",
       "      <th>Count</th>\n",
       "    </tr>\n",
       "  </thead>\n",
       "  <tbody>\n",
       "    <tr>\n",
       "      <th>0</th>\n",
       "      <td>christine</td>\n",
       "      <td>47</td>\n",
       "    </tr>\n",
       "    <tr>\n",
       "      <th>1</th>\n",
       "      <td>opera</td>\n",
       "      <td>41</td>\n",
       "    </tr>\n",
       "    <tr>\n",
       "      <th>2</th>\n",
       "      <td>music</td>\n",
       "      <td>37</td>\n",
       "    </tr>\n",
       "    <tr>\n",
       "      <th>3</th>\n",
       "      <td>angel</td>\n",
       "      <td>36</td>\n",
       "    </tr>\n",
       "    <tr>\n",
       "      <th>4</th>\n",
       "      <td>think</td>\n",
       "      <td>29</td>\n",
       "    </tr>\n",
       "  </tbody>\n",
       "</table>\n",
       "</div>"
      ],
      "text/plain": [
       "     Word(s)  Count\n",
       "0  christine     47\n",
       "1      opera     41\n",
       "2      music     37\n",
       "3      angel     36\n",
       "4      think     29"
      ]
     },
     "execution_count": 25,
     "metadata": {},
     "output_type": "execute_result"
    }
   ],
   "source": [
    "most_common_words_df = pd.DataFrame(c.most_common(68), columns=['Word(s)', 'Count'])\n",
    "most_common_words_df.head()"
   ]
  },
  {
   "cell_type": "markdown",
   "metadata": {},
   "source": [
    "# N-grams and Collocations"
   ]
  },
  {
   "cell_type": "markdown",
   "metadata": {},
   "source": [
    "Besides individual words, I also want to capture meaningful phrases in the word cloud. A few definitions before we begin: According to the Oxford dictionary, a bigram is \"a pair of consecutive written units such as letters, syllables, or words.\" In our case, we only care about word pairs. Similarly, a trigram is a group of 3 words that appear together, and an n-gram is a sequence of n items. \n",
    "\n",
    "To get common phrases within the script, I create a counter for the most common n-grams for 2-5 words. However, we don't necessarily just want the most frequent word pairs as we may end up with a bunch of common word phrases with no significance, like \"and the\", \"over there\", and \"is a\". Instead, we can look at collocations. According to Wikipedia, \"a collocation is a series of words or terms that co-occur more often than would be expected by chance.\" Whereas the n-grams approach returns the most frequent phrases and can end up with an overrepresentation of  common words, collocations return the more interesting and informative phrases.\n",
    "\n",
    "The nltk library has a BigramCollocationFinder and a TrigramCollocationFinder, but I didn't find and out-of-the-box solutions for collocations greater than trigrams. Once the bigrams or trigrams are extracted form the data, you can then find the ones that have the highest likelihood ratio to find the words that are paired more than you would expect them to by random chance."
   ]
  },
  {
   "cell_type": "markdown",
   "metadata": {},
   "source": [
    "To illustrate this point, let's look at both n-grams and collocations. First, I will just look at the most frequently occuring bigrams. "
   ]
  },
  {
   "cell_type": "markdown",
   "metadata": {},
   "source": [
    "## Bigrams"
   ]
  },
  {
   "cell_type": "code",
   "execution_count": 26,
   "metadata": {},
   "outputs": [
    {
     "name": "stdout",
     "output_type": "stream",
     "text": [
      "('1905', 'the')\n",
      "('the', 'contents')\n",
      "('contents', 'of')\n",
      "('of', 'the')\n",
      "('the', 'opera')\n",
      "('opera', 'house')\n",
      "('house', 'is')\n",
      "('is', 'being')\n",
      "('being', 'auctioned')\n",
      "('auctioned', 'off')\n"
     ]
    }
   ],
   "source": [
    "# Python has a ngram function as part of NLTK library which helps us generate ngrams.\n",
    "# let's take a look at the first 10 bigrams generated\n",
    "counter = 0\n",
    "for bigram in nltk.ngrams(words,2):\n",
    "    if counter <10:\n",
    "        print(bigram)\n",
    "        counter += 1\n",
    "    else: \n",
    "        break"
   ]
  },
  {
   "cell_type": "code",
   "execution_count": 27,
   "metadata": {},
   "outputs": [
    {
     "data": {
      "text/plain": [
       "{('of', 'the'): 65,\n",
       " ('in', 'the'): 29,\n",
       " ('the', 'opera'): 27,\n",
       " ('to', 'the'): 27,\n",
       " ('from', 'the'): 18,\n",
       " ('think', 'of'): 18,\n",
       " ('angel', 'of'): 18,\n",
       " ('at', 'the'): 17,\n",
       " ('as', 'the'): 17,\n",
       " ('of', 'music'): 17}"
      ]
     },
     "execution_count": 27,
     "metadata": {},
     "output_type": "execute_result"
    }
   ],
   "source": [
    "# https://stackoverflow.com/questions/12488722/counting-bigrams-pair-of-two-words-in-a-file-using-python\n",
    "# I want to count which bigrams occur most frequently so we can pass the nltk ngram generator into a counter\n",
    "# To make this easy to read, let's pass it into a dictionary with the bigram as the key and the occurence count as the value\n",
    "bigram_count_dict = dict(Counter(nltk.ngrams(words,2)).most_common(10))\n",
    "bigram_count_dict"
   ]
  },
  {
   "cell_type": "code",
   "execution_count": 28,
   "metadata": {},
   "outputs": [
    {
     "data": {
      "text/html": [
       "<div>\n",
       "<style scoped>\n",
       "    .dataframe tbody tr th:only-of-type {\n",
       "        vertical-align: middle;\n",
       "    }\n",
       "\n",
       "    .dataframe tbody tr th {\n",
       "        vertical-align: top;\n",
       "    }\n",
       "\n",
       "    .dataframe thead th {\n",
       "        text-align: right;\n",
       "    }\n",
       "</style>\n",
       "<table border=\"1\" class=\"dataframe\">\n",
       "  <thead>\n",
       "    <tr style=\"text-align: right;\">\n",
       "      <th></th>\n",
       "      <th>Word(s)</th>\n",
       "      <th>Count</th>\n",
       "    </tr>\n",
       "  </thead>\n",
       "  <tbody>\n",
       "    <tr>\n",
       "      <th>0</th>\n",
       "      <td>of the</td>\n",
       "      <td>65</td>\n",
       "    </tr>\n",
       "    <tr>\n",
       "      <th>1</th>\n",
       "      <td>in the</td>\n",
       "      <td>29</td>\n",
       "    </tr>\n",
       "    <tr>\n",
       "      <th>2</th>\n",
       "      <td>the opera</td>\n",
       "      <td>27</td>\n",
       "    </tr>\n",
       "    <tr>\n",
       "      <th>3</th>\n",
       "      <td>to the</td>\n",
       "      <td>27</td>\n",
       "    </tr>\n",
       "    <tr>\n",
       "      <th>4</th>\n",
       "      <td>from the</td>\n",
       "      <td>18</td>\n",
       "    </tr>\n",
       "    <tr>\n",
       "      <th>5</th>\n",
       "      <td>think of</td>\n",
       "      <td>18</td>\n",
       "    </tr>\n",
       "    <tr>\n",
       "      <th>6</th>\n",
       "      <td>angel of</td>\n",
       "      <td>18</td>\n",
       "    </tr>\n",
       "    <tr>\n",
       "      <th>7</th>\n",
       "      <td>at the</td>\n",
       "      <td>17</td>\n",
       "    </tr>\n",
       "    <tr>\n",
       "      <th>8</th>\n",
       "      <td>as the</td>\n",
       "      <td>17</td>\n",
       "    </tr>\n",
       "    <tr>\n",
       "      <th>9</th>\n",
       "      <td>of music</td>\n",
       "      <td>17</td>\n",
       "    </tr>\n",
       "  </tbody>\n",
       "</table>\n",
       "</div>"
      ],
      "text/plain": [
       "     Word(s) Count\n",
       "0     of the    65\n",
       "1     in the    29\n",
       "2  the opera    27\n",
       "3     to the    27\n",
       "4   from the    18\n",
       "5   think of    18\n",
       "6   angel of    18\n",
       "7     at the    17\n",
       "8     as the    17\n",
       "9   of music    17"
      ]
     },
     "execution_count": 28,
     "metadata": {},
     "output_type": "execute_result"
    }
   ],
   "source": [
    "# Let's store the bigrams and their counts in a dataframe\n",
    "bigram_df = pd.DataFrame(columns=[\"Word(s)\", \"Count\"]) # initialize dataframe with two columns\n",
    "for key, val in bigram_count_dict.items():\n",
    "    # append row to the dataframe\n",
    "    new_row = {\"Word(s)\": ' '.join(key), \"Count\":val}\n",
    "    bigram_df = bigram_df.append(new_row, ignore_index=True)\n",
    "bigram_df"
   ]
  },
  {
   "cell_type": "markdown",
   "metadata": {},
   "source": [
    "Unsurprisingly, you can see that we returned a lot of common word phrases that are not surprising or interesting. \n",
    "Next I'll use the BigramCollocationFinder to find bigram collocations"
   ]
  },
  {
   "cell_type": "code",
   "execution_count": 29,
   "metadata": {},
   "outputs": [
    {
     "data": {
      "text/plain": [
       "[('prima', 'donna'),\n",
       " ('of', 'the'),\n",
       " ('miss', 'daae'),\n",
       " ('the', 'opera'),\n",
       " ('think', 'of'),\n",
       " ('phantom', 'of'),\n",
       " ('dressing', 'room'),\n",
       " ('box', 'five'),\n",
       " ('angel', 'of'),\n",
       " ('christine', 'daae'),\n",
       " ('of', 'music'),\n",
       " ('i', 'am'),\n",
       " ('once', 'more'),\n",
       " ('the', 'stage'),\n",
       " ('i', 'have'),\n",
       " ('croak', 'croak'),\n",
       " ('the', 'phantom'),\n",
       " ('if', 'you'),\n",
       " ('look', 'at'),\n",
       " ('each', 'other')]"
      ]
     },
     "execution_count": 29,
     "metadata": {},
     "output_type": "execute_result"
    }
   ],
   "source": [
    "# Code adpated from https://www.geeksforgeeks.org/nlp-word-collocations/\n",
    "# use to find bigrams, which are pairs of words \n",
    "from nltk.collocations import BigramCollocationFinder \n",
    "from nltk.metrics import BigramAssocMeasures \n",
    "\n",
    "bigram_collocation = BigramCollocationFinder.from_words(words) \n",
    "# only bigrams that appear 3+ times\n",
    "bigram_collocation.apply_freq_filter(3) \n",
    "# return the 10 bigrams with the highest likelihood_ratio\n",
    "bigram_collocation.nbest(BigramAssocMeasures.likelihood_ratio, 20)"
   ]
  },
  {
   "cell_type": "markdown",
   "metadata": {},
   "source": [
    "The bigram collocations definitely look more interesting than before. Unlike with the n-grams, the BigramCollocationFinder doesn't return the frequency count for the collocations. Instead, I have a 'score' for each n-gram scored according to some association measure in order to determine the relative likelihood of each ngram being a collocation."
   ]
  },
  {
   "cell_type": "code",
   "execution_count": 30,
   "metadata": {},
   "outputs": [
    {
     "data": {
      "text/plain": [
       "[(('prima', 'donna'), 142.76942123487498),\n",
       " (('of', 'the'), 130.4879402356687),\n",
       " (('miss', 'daae'), 113.42171263122117),\n",
       " (('the', 'opera'), 105.42248070975617),\n",
       " (('think', 'of'), 97.957799881743),\n",
       " (('phantom', 'of'), 97.0088985004556),\n",
       " (('dressing', 'room'), 94.11475094544831),\n",
       " (('box', 'five'), 88.987945083169),\n",
       " (('angel', 'of'), 86.85845701847137),\n",
       " (('christine', 'daae'), 78.89419709926061),\n",
       " (('of', 'music'), 78.17555701191989),\n",
       " (('i', 'am'), 74.78088524110011),\n",
       " (('once', 'more'), 67.19274769936332),\n",
       " (('the', 'stage'), 65.31496229250311),\n",
       " (('i', 'have'), 64.8798440459413),\n",
       " (('croak', 'croak'), 64.0283115324875),\n",
       " (('the', 'phantom'), 62.20282759694193),\n",
       " (('if', 'you'), 59.3286002408113),\n",
       " (('look', 'at'), 57.18281885027038),\n",
       " (('each', 'other'), 54.74377193296009)]"
      ]
     },
     "execution_count": 30,
     "metadata": {},
     "output_type": "execute_result"
    }
   ],
   "source": [
    "bigram_collocation.score_ngrams(BigramAssocMeasures.likelihood_ratio)[:20]"
   ]
  },
  {
   "cell_type": "code",
   "execution_count": 31,
   "metadata": {},
   "outputs": [
    {
     "data": {
      "text/html": [
       "<div>\n",
       "<style scoped>\n",
       "    .dataframe tbody tr th:only-of-type {\n",
       "        vertical-align: middle;\n",
       "    }\n",
       "\n",
       "    .dataframe tbody tr th {\n",
       "        vertical-align: top;\n",
       "    }\n",
       "\n",
       "    .dataframe thead th {\n",
       "        text-align: right;\n",
       "    }\n",
       "</style>\n",
       "<table border=\"1\" class=\"dataframe\">\n",
       "  <thead>\n",
       "    <tr style=\"text-align: right;\">\n",
       "      <th></th>\n",
       "      <th>Word(s)</th>\n",
       "      <th>Count</th>\n",
       "    </tr>\n",
       "  </thead>\n",
       "  <tbody>\n",
       "    <tr>\n",
       "      <th>0</th>\n",
       "      <td>prima donna</td>\n",
       "      <td>142.769421</td>\n",
       "    </tr>\n",
       "    <tr>\n",
       "      <th>1</th>\n",
       "      <td>of the</td>\n",
       "      <td>130.487940</td>\n",
       "    </tr>\n",
       "    <tr>\n",
       "      <th>2</th>\n",
       "      <td>miss daae</td>\n",
       "      <td>113.421713</td>\n",
       "    </tr>\n",
       "    <tr>\n",
       "      <th>3</th>\n",
       "      <td>the opera</td>\n",
       "      <td>105.422481</td>\n",
       "    </tr>\n",
       "    <tr>\n",
       "      <th>4</th>\n",
       "      <td>think of</td>\n",
       "      <td>97.957800</td>\n",
       "    </tr>\n",
       "    <tr>\n",
       "      <th>5</th>\n",
       "      <td>phantom of</td>\n",
       "      <td>97.008899</td>\n",
       "    </tr>\n",
       "    <tr>\n",
       "      <th>6</th>\n",
       "      <td>dressing room</td>\n",
       "      <td>94.114751</td>\n",
       "    </tr>\n",
       "    <tr>\n",
       "      <th>7</th>\n",
       "      <td>box five</td>\n",
       "      <td>88.987945</td>\n",
       "    </tr>\n",
       "    <tr>\n",
       "      <th>8</th>\n",
       "      <td>angel of</td>\n",
       "      <td>86.858457</td>\n",
       "    </tr>\n",
       "    <tr>\n",
       "      <th>9</th>\n",
       "      <td>christine daae</td>\n",
       "      <td>78.894197</td>\n",
       "    </tr>\n",
       "    <tr>\n",
       "      <th>10</th>\n",
       "      <td>of music</td>\n",
       "      <td>78.175557</td>\n",
       "    </tr>\n",
       "    <tr>\n",
       "      <th>11</th>\n",
       "      <td>i am</td>\n",
       "      <td>74.780885</td>\n",
       "    </tr>\n",
       "    <tr>\n",
       "      <th>12</th>\n",
       "      <td>once more</td>\n",
       "      <td>67.192748</td>\n",
       "    </tr>\n",
       "    <tr>\n",
       "      <th>13</th>\n",
       "      <td>the stage</td>\n",
       "      <td>65.314962</td>\n",
       "    </tr>\n",
       "    <tr>\n",
       "      <th>14</th>\n",
       "      <td>i have</td>\n",
       "      <td>64.879844</td>\n",
       "    </tr>\n",
       "    <tr>\n",
       "      <th>15</th>\n",
       "      <td>croak croak</td>\n",
       "      <td>64.028312</td>\n",
       "    </tr>\n",
       "    <tr>\n",
       "      <th>16</th>\n",
       "      <td>the phantom</td>\n",
       "      <td>62.202828</td>\n",
       "    </tr>\n",
       "    <tr>\n",
       "      <th>17</th>\n",
       "      <td>if you</td>\n",
       "      <td>59.328600</td>\n",
       "    </tr>\n",
       "    <tr>\n",
       "      <th>18</th>\n",
       "      <td>look at</td>\n",
       "      <td>57.182819</td>\n",
       "    </tr>\n",
       "    <tr>\n",
       "      <th>19</th>\n",
       "      <td>each other</td>\n",
       "      <td>54.743772</td>\n",
       "    </tr>\n",
       "  </tbody>\n",
       "</table>\n",
       "</div>"
      ],
      "text/plain": [
       "           Word(s)       Count\n",
       "0      prima donna  142.769421\n",
       "1           of the  130.487940\n",
       "2        miss daae  113.421713\n",
       "3        the opera  105.422481\n",
       "4         think of   97.957800\n",
       "5       phantom of   97.008899\n",
       "6    dressing room   94.114751\n",
       "7         box five   88.987945\n",
       "8         angel of   86.858457\n",
       "9   christine daae   78.894197\n",
       "10        of music   78.175557\n",
       "11            i am   74.780885\n",
       "12       once more   67.192748\n",
       "13       the stage   65.314962\n",
       "14          i have   64.879844\n",
       "15     croak croak   64.028312\n",
       "16     the phantom   62.202828\n",
       "17          if you   59.328600\n",
       "18         look at   57.182819\n",
       "19      each other   54.743772"
      ]
     },
     "execution_count": 31,
     "metadata": {},
     "output_type": "execute_result"
    }
   ],
   "source": [
    "# Let's store the bigram collocations in a dataframe\n",
    "bigram_collocations = dict(bigram_collocation.score_ngrams(BigramAssocMeasures.likelihood_ratio)[:20])\n",
    "bigram_collocations_df = pd.DataFrame(columns=[\"Word(s)\", \"Count\"])\n",
    "for key, val in bigram_collocations.items():\n",
    "    # append row to the dataframe\n",
    "    new_row = {\"Word(s)\": ' '.join(key), \"Count\":val}\n",
    "    bigram_collocations_df = bigram_collocations_df.append(new_row, ignore_index=True)\n",
    "bigram_collocations_df"
   ]
  },
  {
   "cell_type": "code",
   "execution_count": 32,
   "metadata": {},
   "outputs": [],
   "source": [
    "# hand pick the biigram collocations by index position to include in the word cloud \n",
    "selected_bigram_collocations = [2,6,12,19] # create a list of desired bigram collocations by index  \n",
    "selected_bigram_df = bigram_collocations_df.iloc[selected_bigram_collocations]"
   ]
  },
  {
   "cell_type": "markdown",
   "metadata": {},
   "source": [
    "## Trigrams"
   ]
  },
  {
   "cell_type": "markdown",
   "metadata": {},
   "source": [
    "Now I do the same thing with trigrams"
   ]
  },
  {
   "cell_type": "code",
   "execution_count": 33,
   "metadata": {},
   "outputs": [
    {
     "data": {
      "text/html": [
       "<div>\n",
       "<style scoped>\n",
       "    .dataframe tbody tr th:only-of-type {\n",
       "        vertical-align: middle;\n",
       "    }\n",
       "\n",
       "    .dataframe tbody tr th {\n",
       "        vertical-align: top;\n",
       "    }\n",
       "\n",
       "    .dataframe thead th {\n",
       "        text-align: right;\n",
       "    }\n",
       "</style>\n",
       "<table border=\"1\" class=\"dataframe\">\n",
       "  <thead>\n",
       "    <tr style=\"text-align: right;\">\n",
       "      <th></th>\n",
       "      <th>Word(s)</th>\n",
       "      <th>Count</th>\n",
       "    </tr>\n",
       "  </thead>\n",
       "  <tbody>\n",
       "    <tr>\n",
       "      <th>0</th>\n",
       "      <td>of the opera</td>\n",
       "      <td>19</td>\n",
       "    </tr>\n",
       "    <tr>\n",
       "      <th>1</th>\n",
       "      <td>angel of music</td>\n",
       "      <td>17</td>\n",
       "    </tr>\n",
       "    <tr>\n",
       "      <th>2</th>\n",
       "      <td>phantom of the</td>\n",
       "      <td>15</td>\n",
       "    </tr>\n",
       "    <tr>\n",
       "      <th>3</th>\n",
       "      <td>the phantom of</td>\n",
       "      <td>13</td>\n",
       "    </tr>\n",
       "    <tr>\n",
       "      <th>4</th>\n",
       "      <td>think of me</td>\n",
       "      <td>9</td>\n",
       "    </tr>\n",
       "    <tr>\n",
       "      <th>5</th>\n",
       "      <td>ladies and gentlemen</td>\n",
       "      <td>8</td>\n",
       "    </tr>\n",
       "    <tr>\n",
       "      <th>6</th>\n",
       "      <td>the angel of</td>\n",
       "      <td>7</td>\n",
       "    </tr>\n",
       "    <tr>\n",
       "      <th>7</th>\n",
       "      <td>the opera is</td>\n",
       "      <td>5</td>\n",
       "    </tr>\n",
       "    <tr>\n",
       "      <th>8</th>\n",
       "      <td>the opera house</td>\n",
       "      <td>4</td>\n",
       "    </tr>\n",
       "    <tr>\n",
       "      <th>9</th>\n",
       "      <td>sad to return</td>\n",
       "      <td>4</td>\n",
       "    </tr>\n",
       "    <tr>\n",
       "      <th>10</th>\n",
       "      <td>to find the</td>\n",
       "      <td>4</td>\n",
       "    </tr>\n",
       "    <tr>\n",
       "      <th>11</th>\n",
       "      <td>of me think</td>\n",
       "      <td>4</td>\n",
       "    </tr>\n",
       "    <tr>\n",
       "      <th>12</th>\n",
       "      <td>me think of</td>\n",
       "      <td>4</td>\n",
       "    </tr>\n",
       "    <tr>\n",
       "      <th>13</th>\n",
       "      <td>there is no</td>\n",
       "      <td>4</td>\n",
       "    </tr>\n",
       "    <tr>\n",
       "      <th>14</th>\n",
       "      <td>the dressing room</td>\n",
       "      <td>4</td>\n",
       "    </tr>\n",
       "    <tr>\n",
       "      <th>15</th>\n",
       "      <td>who is this</td>\n",
       "      <td>4</td>\n",
       "    </tr>\n",
       "    <tr>\n",
       "      <th>16</th>\n",
       "      <td>in my head</td>\n",
       "      <td>4</td>\n",
       "    </tr>\n",
       "    <tr>\n",
       "      <th>17</th>\n",
       "      <td>more and more</td>\n",
       "      <td>4</td>\n",
       "    </tr>\n",
       "    <tr>\n",
       "      <th>18</th>\n",
       "      <td>the music of</td>\n",
       "      <td>4</td>\n",
       "    </tr>\n",
       "    <tr>\n",
       "      <th>19</th>\n",
       "      <td>music of the</td>\n",
       "      <td>4</td>\n",
       "    </tr>\n",
       "    <tr>\n",
       "      <th>20</th>\n",
       "      <td>of the night</td>\n",
       "      <td>4</td>\n",
       "    </tr>\n",
       "    <tr>\n",
       "      <th>21</th>\n",
       "      <td>of course not</td>\n",
       "      <td>4</td>\n",
       "    </tr>\n",
       "    <tr>\n",
       "      <th>22</th>\n",
       "      <td>what is it</td>\n",
       "      <td>4</td>\n",
       "    </tr>\n",
       "    <tr>\n",
       "      <th>23</th>\n",
       "      <td>in box five</td>\n",
       "      <td>4</td>\n",
       "    </tr>\n",
       "    <tr>\n",
       "      <th>24</th>\n",
       "      <td>croak croak croak</td>\n",
       "      <td>4</td>\n",
       "    </tr>\n",
       "    <tr>\n",
       "      <th>25</th>\n",
       "      <td>thats all i</td>\n",
       "      <td>4</td>\n",
       "    </tr>\n",
       "    <tr>\n",
       "      <th>26</th>\n",
       "      <td>all i ask</td>\n",
       "      <td>4</td>\n",
       "    </tr>\n",
       "    <tr>\n",
       "      <th>27</th>\n",
       "      <td>i ask of</td>\n",
       "      <td>4</td>\n",
       "    </tr>\n",
       "    <tr>\n",
       "      <th>28</th>\n",
       "      <td>ask of you</td>\n",
       "      <td>4</td>\n",
       "    </tr>\n",
       "  </tbody>\n",
       "</table>\n",
       "</div>"
      ],
      "text/plain": [
       "                 Word(s) Count\n",
       "0           of the opera    19\n",
       "1         angel of music    17\n",
       "2         phantom of the    15\n",
       "3         the phantom of    13\n",
       "4            think of me     9\n",
       "5   ladies and gentlemen     8\n",
       "6           the angel of     7\n",
       "7           the opera is     5\n",
       "8        the opera house     4\n",
       "9          sad to return     4\n",
       "10           to find the     4\n",
       "11           of me think     4\n",
       "12           me think of     4\n",
       "13           there is no     4\n",
       "14     the dressing room     4\n",
       "15           who is this     4\n",
       "16            in my head     4\n",
       "17         more and more     4\n",
       "18          the music of     4\n",
       "19          music of the     4\n",
       "20          of the night     4\n",
       "21         of course not     4\n",
       "22            what is it     4\n",
       "23           in box five     4\n",
       "24     croak croak croak     4\n",
       "25           thats all i     4\n",
       "26             all i ask     4\n",
       "27              i ask of     4\n",
       "28            ask of you     4"
      ]
     },
     "execution_count": 33,
     "metadata": {},
     "output_type": "execute_result"
    }
   ],
   "source": [
    "three_gram = dict(Counter(nltk.ngrams(words,3)).most_common(29))\n",
    "three_gram_df = pd.DataFrame(columns=[\"Word(s)\", \"Count\"])\n",
    "for key, val in three_gram.items():\n",
    "    # append row to the dataframe\n",
    "    new_row = {\"Word(s)\": ' '.join(key), \"Count\":val}\n",
    "    three_gram_df = three_gram_df.append(new_row, ignore_index=True)\n",
    "three_gram_df"
   ]
  },
  {
   "cell_type": "code",
   "execution_count": 34,
   "metadata": {},
   "outputs": [
    {
     "data": {
      "text/plain": [
       "[('of', 'the', 'opera'),\n",
       " ('the', 'phantom', 'of'),\n",
       " ('angel', 'of', 'music'),\n",
       " ('the', 'angel', 'of'),\n",
       " ('phantom', 'of', 'the'),\n",
       " ('the', 'arrival', 'of'),\n",
       " ('the', 'role', 'of'),\n",
       " ('the', 'music', 'of'),\n",
       " ('sing', 'prima', 'donna'),\n",
       " ('prima', 'donna', 'once'),\n",
       " ('think', 'of', 'me'),\n",
       " ('of', 'the', 'night'),\n",
       " ('the', 'opera', 'house'),\n",
       " ('ladies', 'and', 'gentlemen'),\n",
       " ('of', 'the', 'music')]"
      ]
     },
     "execution_count": 34,
     "metadata": {},
     "output_type": "execute_result"
    }
   ],
   "source": [
    "# Loading Libraries \n",
    "from nltk.collocations import TrigramCollocationFinder \n",
    "from nltk.metrics import TrigramAssocMeasures \n",
    "  \n",
    "trigram_collocation = TrigramCollocationFinder.from_words(words) \n",
    "trigram_collocation.apply_freq_filter(3) \n",
    "  \n",
    "trigram_collocation.nbest(TrigramAssocMeasures.likelihood_ratio, 15) "
   ]
  },
  {
   "cell_type": "code",
   "execution_count": 35,
   "metadata": {},
   "outputs": [
    {
     "data": {
      "text/html": [
       "<div>\n",
       "<style scoped>\n",
       "    .dataframe tbody tr th:only-of-type {\n",
       "        vertical-align: middle;\n",
       "    }\n",
       "\n",
       "    .dataframe tbody tr th {\n",
       "        vertical-align: top;\n",
       "    }\n",
       "\n",
       "    .dataframe thead th {\n",
       "        text-align: right;\n",
       "    }\n",
       "</style>\n",
       "<table border=\"1\" class=\"dataframe\">\n",
       "  <thead>\n",
       "    <tr style=\"text-align: right;\">\n",
       "      <th></th>\n",
       "      <th>Word(s)</th>\n",
       "      <th>Count</th>\n",
       "    </tr>\n",
       "  </thead>\n",
       "  <tbody>\n",
       "    <tr>\n",
       "      <th>0</th>\n",
       "      <td>of the opera</td>\n",
       "      <td>441.460245</td>\n",
       "    </tr>\n",
       "    <tr>\n",
       "      <th>1</th>\n",
       "      <td>the phantom of</td>\n",
       "      <td>439.091267</td>\n",
       "    </tr>\n",
       "    <tr>\n",
       "      <th>2</th>\n",
       "      <td>angel of music</td>\n",
       "      <td>415.642913</td>\n",
       "    </tr>\n",
       "    <tr>\n",
       "      <th>3</th>\n",
       "      <td>the angel of</td>\n",
       "      <td>401.324786</td>\n",
       "    </tr>\n",
       "    <tr>\n",
       "      <th>4</th>\n",
       "      <td>phantom of the</td>\n",
       "      <td>400.654166</td>\n",
       "    </tr>\n",
       "    <tr>\n",
       "      <th>5</th>\n",
       "      <td>the arrival of</td>\n",
       "      <td>304.606132</td>\n",
       "    </tr>\n",
       "    <tr>\n",
       "      <th>6</th>\n",
       "      <td>the role of</td>\n",
       "      <td>291.206395</td>\n",
       "    </tr>\n",
       "    <tr>\n",
       "      <th>7</th>\n",
       "      <td>the music of</td>\n",
       "      <td>290.787975</td>\n",
       "    </tr>\n",
       "    <tr>\n",
       "      <th>8</th>\n",
       "      <td>sing prima donna</td>\n",
       "      <td>254.504802</td>\n",
       "    </tr>\n",
       "    <tr>\n",
       "      <th>9</th>\n",
       "      <td>prima donna once</td>\n",
       "      <td>251.992278</td>\n",
       "    </tr>\n",
       "    <tr>\n",
       "      <th>10</th>\n",
       "      <td>think of me</td>\n",
       "      <td>238.198306</td>\n",
       "    </tr>\n",
       "    <tr>\n",
       "      <th>11</th>\n",
       "      <td>of the night</td>\n",
       "      <td>233.951567</td>\n",
       "    </tr>\n",
       "    <tr>\n",
       "      <th>12</th>\n",
       "      <td>the opera house</td>\n",
       "      <td>233.210332</td>\n",
       "    </tr>\n",
       "    <tr>\n",
       "      <th>13</th>\n",
       "      <td>ladies and gentlemen</td>\n",
       "      <td>232.886862</td>\n",
       "    </tr>\n",
       "    <tr>\n",
       "      <th>14</th>\n",
       "      <td>of the music</td>\n",
       "      <td>222.321896</td>\n",
       "    </tr>\n",
       "    <tr>\n",
       "      <th>15</th>\n",
       "      <td>music of the</td>\n",
       "      <td>220.391953</td>\n",
       "    </tr>\n",
       "    <tr>\n",
       "      <th>16</th>\n",
       "      <td>the opera is</td>\n",
       "      <td>199.274170</td>\n",
       "    </tr>\n",
       "    <tr>\n",
       "      <th>17</th>\n",
       "      <td>croak croak croak</td>\n",
       "      <td>194.730720</td>\n",
       "    </tr>\n",
       "    <tr>\n",
       "      <th>18</th>\n",
       "      <td>me think of</td>\n",
       "      <td>172.928616</td>\n",
       "    </tr>\n",
       "    <tr>\n",
       "      <th>19</th>\n",
       "      <td>i am bid</td>\n",
       "      <td>168.415795</td>\n",
       "    </tr>\n",
       "  </tbody>\n",
       "</table>\n",
       "</div>"
      ],
      "text/plain": [
       "                 Word(s)       Count\n",
       "0           of the opera  441.460245\n",
       "1         the phantom of  439.091267\n",
       "2         angel of music  415.642913\n",
       "3           the angel of  401.324786\n",
       "4         phantom of the  400.654166\n",
       "5         the arrival of  304.606132\n",
       "6            the role of  291.206395\n",
       "7           the music of  290.787975\n",
       "8       sing prima donna  254.504802\n",
       "9       prima donna once  251.992278\n",
       "10           think of me  238.198306\n",
       "11          of the night  233.951567\n",
       "12       the opera house  233.210332\n",
       "13  ladies and gentlemen  232.886862\n",
       "14          of the music  222.321896\n",
       "15          music of the  220.391953\n",
       "16          the opera is  199.274170\n",
       "17     croak croak croak  194.730720\n",
       "18           me think of  172.928616\n",
       "19              i am bid  168.415795"
      ]
     },
     "execution_count": 35,
     "metadata": {},
     "output_type": "execute_result"
    }
   ],
   "source": [
    "three_gram_collocations = dict(trigram_collocation.score_ngrams(TrigramAssocMeasures.likelihood_ratio)[:20])\n",
    "three_gram_collocations_df = pd.DataFrame(columns=[\"Word(s)\", \"Count\"])\n",
    "for key, val in three_gram_collocations.items():\n",
    "    # append row to the dataframe\n",
    "    new_row = {\"Word(s)\": ' '.join(key), \"Count\":val}\n",
    "    three_gram_collocations_df = three_gram_collocations_df.append(new_row, ignore_index=True)\n",
    "three_gram_collocations_df"
   ]
  },
  {
   "cell_type": "code",
   "execution_count": 46,
   "metadata": {},
   "outputs": [],
   "source": [
    "# hand pick the trigram collocations by index position to include in the word cloud \n",
    "selected_trigram_collocations = [2,8,13] # create a list of desired trigram collocations by index  \n",
    "selected_trigram_df = three_gram_collocations_df.iloc[selected_trigram_collocations]"
   ]
  },
  {
   "cell_type": "markdown",
   "metadata": {},
   "source": [
    "## Quadgrams"
   ]
  },
  {
   "cell_type": "markdown",
   "metadata": {},
   "source": [
    "When looking at 4 word sequences, the benefits of collocations are vastly reduced and we can just look at frequently occurring n-grams. With phrases this long, common word jumbles are less likely to appear, and we can expect frequently occurring 4-grams to have significant meaning. Let's see this is action"
   ]
  },
  {
   "cell_type": "code",
   "execution_count": 37,
   "metadata": {},
   "outputs": [
    {
     "data": {
      "text/html": [
       "<div>\n",
       "<style scoped>\n",
       "    .dataframe tbody tr th:only-of-type {\n",
       "        vertical-align: middle;\n",
       "    }\n",
       "\n",
       "    .dataframe tbody tr th {\n",
       "        vertical-align: top;\n",
       "    }\n",
       "\n",
       "    .dataframe thead th {\n",
       "        text-align: right;\n",
       "    }\n",
       "</style>\n",
       "<table border=\"1\" class=\"dataframe\">\n",
       "  <thead>\n",
       "    <tr style=\"text-align: right;\">\n",
       "      <th></th>\n",
       "      <th>Word(s)</th>\n",
       "      <th>Count</th>\n",
       "    </tr>\n",
       "  </thead>\n",
       "  <tbody>\n",
       "    <tr>\n",
       "      <th>0</th>\n",
       "      <td>phantom of the opera</td>\n",
       "      <td>15</td>\n",
       "    </tr>\n",
       "    <tr>\n",
       "      <th>1</th>\n",
       "      <td>the phantom of the</td>\n",
       "      <td>13</td>\n",
       "    </tr>\n",
       "    <tr>\n",
       "      <th>2</th>\n",
       "      <td>the angel of music</td>\n",
       "      <td>7</td>\n",
       "    </tr>\n",
       "    <tr>\n",
       "      <th>3</th>\n",
       "      <td>of the opera is</td>\n",
       "      <td>5</td>\n",
       "    </tr>\n",
       "    <tr>\n",
       "      <th>4</th>\n",
       "      <td>think of me think</td>\n",
       "      <td>4</td>\n",
       "    </tr>\n",
       "    <tr>\n",
       "      <th>5</th>\n",
       "      <td>of me think of</td>\n",
       "      <td>4</td>\n",
       "    </tr>\n",
       "    <tr>\n",
       "      <th>6</th>\n",
       "      <td>the music of the</td>\n",
       "      <td>4</td>\n",
       "    </tr>\n",
       "    <tr>\n",
       "      <th>7</th>\n",
       "      <td>music of the night</td>\n",
       "      <td>4</td>\n",
       "    </tr>\n",
       "    <tr>\n",
       "      <th>8</th>\n",
       "      <td>thats all i ask</td>\n",
       "      <td>4</td>\n",
       "    </tr>\n",
       "    <tr>\n",
       "      <th>9</th>\n",
       "      <td>all i ask of</td>\n",
       "      <td>4</td>\n",
       "    </tr>\n",
       "  </tbody>\n",
       "</table>\n",
       "</div>"
      ],
      "text/plain": [
       "                Word(s) Count\n",
       "0  phantom of the opera    15\n",
       "1    the phantom of the    13\n",
       "2    the angel of music     7\n",
       "3       of the opera is     5\n",
       "4     think of me think     4\n",
       "5        of me think of     4\n",
       "6      the music of the     4\n",
       "7    music of the night     4\n",
       "8       thats all i ask     4\n",
       "9          all i ask of     4"
      ]
     },
     "execution_count": 37,
     "metadata": {},
     "output_type": "execute_result"
    }
   ],
   "source": [
    "four_gram = dict(Counter(nltk.ngrams(words,4)).most_common(10))\n",
    "four_gram_df = pd.DataFrame(columns=[\"Word(s)\", \"Count\"])\n",
    "for key, val in four_gram.items():\n",
    "    # append row to the dataframe\n",
    "    new_row = {\"Word(s)\": ' '.join(key), \"Count\":val}\n",
    "    four_gram_df = four_gram_df.append(new_row, ignore_index=True)\n",
    "four_gram_df"
   ]
  },
  {
   "cell_type": "code",
   "execution_count": 38,
   "metadata": {},
   "outputs": [],
   "source": [
    "# hand pick the four_grams by index position to include in the word cloud \n",
    "selected_four_grams = [0,7] # create a list of desired four_grams by index  \n",
    "selected_four_gram_df = four_gram_df.iloc[selected_four_grams]"
   ]
  },
  {
   "cell_type": "markdown",
   "metadata": {},
   "source": [
    "## 5-grams"
   ]
  },
  {
   "cell_type": "code",
   "execution_count": 39,
   "metadata": {},
   "outputs": [
    {
     "data": {
      "text/plain": [
       "{('the', 'phantom', 'of', 'the', 'opera'): 13,\n",
       " ('phantom', 'of', 'the', 'opera', 'is'): 5,\n",
       " ('think', 'of', 'me', 'think', 'of'): 4,\n",
       " ('the', 'music', 'of', 'the', 'night'): 4,\n",
       " ('thats', 'all', 'i', 'ask', 'of'): 4,\n",
       " ('all', 'i', 'ask', 'of', 'you'): 4,\n",
       " ('of', 'me', 'think', 'of', 'me'): 3,\n",
       " ('hes', 'there', 'the', 'phantom', 'of'): 3,\n",
       " ('there', 'the', 'phantom', 'of', 'the'): 3,\n",
       " ('sing', 'prima', 'donna', 'once', 'more'): 3}"
      ]
     },
     "execution_count": 39,
     "metadata": {},
     "output_type": "execute_result"
    }
   ],
   "source": [
    "five_gram = dict(Counter(nltk.ngrams(words,5)).most_common(10))\n",
    "five_gram"
   ]
  },
  {
   "cell_type": "markdown",
   "metadata": {},
   "source": [
    "Here it's beginning to look like the 5-grams are at a length that they include more than just the interesting words. We see many common words in the phrases as well.  \n",
    "This is good too since having 5-word phrases in a word cloud almost negates the purpose of word clouds."
   ]
  },
  {
   "cell_type": "code",
   "execution_count": 40,
   "metadata": {},
   "outputs": [
    {
     "data": {
      "text/html": [
       "<div>\n",
       "<style scoped>\n",
       "    .dataframe tbody tr th:only-of-type {\n",
       "        vertical-align: middle;\n",
       "    }\n",
       "\n",
       "    .dataframe tbody tr th {\n",
       "        vertical-align: top;\n",
       "    }\n",
       "\n",
       "    .dataframe thead th {\n",
       "        text-align: right;\n",
       "    }\n",
       "</style>\n",
       "<table border=\"1\" class=\"dataframe\">\n",
       "  <thead>\n",
       "    <tr style=\"text-align: right;\">\n",
       "      <th></th>\n",
       "      <th>Word(s)</th>\n",
       "      <th>Count</th>\n",
       "    </tr>\n",
       "  </thead>\n",
       "  <tbody>\n",
       "    <tr>\n",
       "      <th>0</th>\n",
       "      <td>the phantom of the opera</td>\n",
       "      <td>13</td>\n",
       "    </tr>\n",
       "    <tr>\n",
       "      <th>1</th>\n",
       "      <td>phantom of the opera is</td>\n",
       "      <td>5</td>\n",
       "    </tr>\n",
       "    <tr>\n",
       "      <th>2</th>\n",
       "      <td>think of me think of</td>\n",
       "      <td>4</td>\n",
       "    </tr>\n",
       "    <tr>\n",
       "      <th>3</th>\n",
       "      <td>the music of the night</td>\n",
       "      <td>4</td>\n",
       "    </tr>\n",
       "    <tr>\n",
       "      <th>4</th>\n",
       "      <td>thats all i ask of</td>\n",
       "      <td>4</td>\n",
       "    </tr>\n",
       "    <tr>\n",
       "      <th>5</th>\n",
       "      <td>all i ask of you</td>\n",
       "      <td>4</td>\n",
       "    </tr>\n",
       "    <tr>\n",
       "      <th>6</th>\n",
       "      <td>of me think of me</td>\n",
       "      <td>3</td>\n",
       "    </tr>\n",
       "    <tr>\n",
       "      <th>7</th>\n",
       "      <td>hes there the phantom of</td>\n",
       "      <td>3</td>\n",
       "    </tr>\n",
       "    <tr>\n",
       "      <th>8</th>\n",
       "      <td>there the phantom of the</td>\n",
       "      <td>3</td>\n",
       "    </tr>\n",
       "    <tr>\n",
       "      <th>9</th>\n",
       "      <td>sing prima donna once more</td>\n",
       "      <td>3</td>\n",
       "    </tr>\n",
       "  </tbody>\n",
       "</table>\n",
       "</div>"
      ],
      "text/plain": [
       "                      Word(s) Count\n",
       "0    the phantom of the opera    13\n",
       "1     phantom of the opera is     5\n",
       "2        think of me think of     4\n",
       "3      the music of the night     4\n",
       "4          thats all i ask of     4\n",
       "5            all i ask of you     4\n",
       "6           of me think of me     3\n",
       "7    hes there the phantom of     3\n",
       "8    there the phantom of the     3\n",
       "9  sing prima donna once more     3"
      ]
     },
     "execution_count": 40,
     "metadata": {},
     "output_type": "execute_result"
    }
   ],
   "source": [
    "five_gram_df = pd.DataFrame(columns=[\"Word(s)\", \"Count\"])\n",
    "for key, val in five_gram.items():\n",
    "    # append row to the dataframe\n",
    "    new_row = {\"Word(s)\": ' '.join(key), \"Count\":val}\n",
    "    five_gram_df = five_gram_df.append(new_row, ignore_index=True)\n",
    "five_gram_df"
   ]
  },
  {
   "cell_type": "markdown",
   "metadata": {},
   "source": [
    "The hard part is I want to take out small collocations if they are a part of larger collocations, but I also don't want the largest collocations that contain more that the interesting words. This is where manual work, combined with context and domain knowledge, is necessary. "
   ]
  },
  {
   "cell_type": "markdown",
   "metadata": {},
   "source": [
    "# Combine Dataframes"
   ]
  },
  {
   "cell_type": "code",
   "execution_count": 51,
   "metadata": {},
   "outputs": [],
   "source": [
    "# Execute cell if I want to take out single words that are part of the n-grams\n",
    "df4 = pd.concat([selected_bigram_df, selected_trigram_df, selected_four_gram_df], ignore_index=True)\n",
    "' '.join(df4['Word(s)'])"
   ]
  },
  {
   "cell_type": "code",
   "execution_count": 57,
   "metadata": {},
   "outputs": [
    {
     "data": {
      "text/html": [
       "<div>\n",
       "<style scoped>\n",
       "    .dataframe tbody tr th:only-of-type {\n",
       "        vertical-align: middle;\n",
       "    }\n",
       "\n",
       "    .dataframe tbody tr th {\n",
       "        vertical-align: top;\n",
       "    }\n",
       "\n",
       "    .dataframe thead th {\n",
       "        text-align: right;\n",
       "    }\n",
       "</style>\n",
       "<table border=\"1\" class=\"dataframe\">\n",
       "  <thead>\n",
       "    <tr style=\"text-align: right;\">\n",
       "      <th></th>\n",
       "      <th>Word(s)</th>\n",
       "      <th>Count</th>\n",
       "    </tr>\n",
       "  </thead>\n",
       "  <tbody>\n",
       "    <tr>\n",
       "      <th>44</th>\n",
       "      <td>angel of music</td>\n",
       "      <td>415.643</td>\n",
       "    </tr>\n",
       "    <tr>\n",
       "      <th>45</th>\n",
       "      <td>sing prima donna</td>\n",
       "      <td>254.505</td>\n",
       "    </tr>\n",
       "    <tr>\n",
       "      <th>46</th>\n",
       "      <td>ladies and gentlemen</td>\n",
       "      <td>232.887</td>\n",
       "    </tr>\n",
       "    <tr>\n",
       "      <th>47</th>\n",
       "      <td>phantom of the opera</td>\n",
       "      <td>15</td>\n",
       "    </tr>\n",
       "    <tr>\n",
       "      <th>48</th>\n",
       "      <td>music of the night</td>\n",
       "      <td>4</td>\n",
       "    </tr>\n",
       "  </tbody>\n",
       "</table>\n",
       "</div>"
      ],
      "text/plain": [
       "                 Word(s)    Count\n",
       "44        angel of music  415.643\n",
       "45      sing prima donna  254.505\n",
       "46  ladies and gentlemen  232.887\n",
       "47  phantom of the opera       15\n",
       "48    music of the night        4"
      ]
     },
     "execution_count": 57,
     "metadata": {},
     "output_type": "execute_result"
    }
   ],
   "source": [
    "# append the dataframes for the ngrams with the most common words df\n",
    "df6 = most_common_words_df[:40]\n",
    "df6 = df6.append([selected_bigram_df, selected_trigram_df, selected_four_gram_df], ignore_index=True)\n",
    "df6.tail()"
   ]
  },
  {
   "cell_type": "code",
   "execution_count": 58,
   "metadata": {},
   "outputs": [],
   "source": [
    "# it's important to work with the domain experts and get their inputs\n",
    "additional_words = {'inside my mind':15, 'point of no return':15, 'murderer':15, 'he must be found':15, }"
   ]
  },
  {
   "cell_type": "code",
   "execution_count": 59,
   "metadata": {},
   "outputs": [
    {
     "data": {
      "text/plain": [
       "{'inside my mind': 15,\n",
       " 'point of no return': 15,\n",
       " 'murderer': 15,\n",
       " 'he must be found': 15}"
      ]
     },
     "execution_count": 59,
     "metadata": {},
     "output_type": "execute_result"
    }
   ],
   "source": [
    "additional_words"
   ]
  },
  {
   "cell_type": "code",
   "execution_count": 60,
   "metadata": {},
   "outputs": [
    {
     "name": "stdout",
     "output_type": "stream",
     "text": [
      "inside my mind:15\n",
      "point of no return:15\n",
      "murderer:15\n",
      "he must be found:15\n"
     ]
    }
   ],
   "source": [
    "for key, value in additional_words.items():\n",
    "    print(key + ':' + str(value))\n",
    "    new_row = {'Word(s)':key, 'Count':value}\n",
    "    #append row to the dataframe\n",
    "    df6 = df6.append(new_row, ignore_index=True)"
   ]
  },
  {
   "cell_type": "code",
   "execution_count": 61,
   "metadata": {},
   "outputs": [
    {
     "data": {
      "text/html": [
       "<div>\n",
       "<style scoped>\n",
       "    .dataframe tbody tr th:only-of-type {\n",
       "        vertical-align: middle;\n",
       "    }\n",
       "\n",
       "    .dataframe tbody tr th {\n",
       "        vertical-align: top;\n",
       "    }\n",
       "\n",
       "    .dataframe thead th {\n",
       "        text-align: right;\n",
       "    }\n",
       "</style>\n",
       "<table border=\"1\" class=\"dataframe\">\n",
       "  <thead>\n",
       "    <tr style=\"text-align: right;\">\n",
       "      <th></th>\n",
       "      <th>Word(s)</th>\n",
       "      <th>Count</th>\n",
       "    </tr>\n",
       "  </thead>\n",
       "  <tbody>\n",
       "    <tr>\n",
       "      <th>48</th>\n",
       "      <td>music of the night</td>\n",
       "      <td>4</td>\n",
       "    </tr>\n",
       "    <tr>\n",
       "      <th>49</th>\n",
       "      <td>inside my mind</td>\n",
       "      <td>15</td>\n",
       "    </tr>\n",
       "    <tr>\n",
       "      <th>50</th>\n",
       "      <td>point of no return</td>\n",
       "      <td>15</td>\n",
       "    </tr>\n",
       "    <tr>\n",
       "      <th>51</th>\n",
       "      <td>murderer</td>\n",
       "      <td>15</td>\n",
       "    </tr>\n",
       "    <tr>\n",
       "      <th>52</th>\n",
       "      <td>he must be found</td>\n",
       "      <td>15</td>\n",
       "    </tr>\n",
       "  </tbody>\n",
       "</table>\n",
       "</div>"
      ],
      "text/plain": [
       "               Word(s) Count\n",
       "48  music of the night     4\n",
       "49      inside my mind    15\n",
       "50  point of no return    15\n",
       "51            murderer    15\n",
       "52    he must be found    15"
      ]
     },
     "execution_count": 61,
     "metadata": {},
     "output_type": "execute_result"
    }
   ],
   "source": [
    "df6.tail()"
   ]
  },
  {
   "cell_type": "code",
   "execution_count": null,
   "metadata": {},
   "outputs": [],
   "source": [
    "df6['Color'] = 'FFFFFF' #FFFFFF is the hex color code for white"
   ]
  },
  {
   "cell_type": "code",
   "execution_count": 62,
   "metadata": {},
   "outputs": [
    {
     "data": {
      "text/html": [
       "<div>\n",
       "<style scoped>\n",
       "    .dataframe tbody tr th:only-of-type {\n",
       "        vertical-align: middle;\n",
       "    }\n",
       "\n",
       "    .dataframe tbody tr th {\n",
       "        vertical-align: top;\n",
       "    }\n",
       "\n",
       "    .dataframe thead th {\n",
       "        text-align: right;\n",
       "    }\n",
       "</style>\n",
       "<table border=\"1\" class=\"dataframe\">\n",
       "  <thead>\n",
       "    <tr style=\"text-align: right;\">\n",
       "      <th></th>\n",
       "      <th>Word(s)</th>\n",
       "      <th>Count</th>\n",
       "    </tr>\n",
       "  </thead>\n",
       "  <tbody>\n",
       "    <tr>\n",
       "      <th>48</th>\n",
       "      <td>music of the night</td>\n",
       "      <td>4</td>\n",
       "    </tr>\n",
       "    <tr>\n",
       "      <th>49</th>\n",
       "      <td>inside my mind</td>\n",
       "      <td>15</td>\n",
       "    </tr>\n",
       "    <tr>\n",
       "      <th>50</th>\n",
       "      <td>point of no return</td>\n",
       "      <td>15</td>\n",
       "    </tr>\n",
       "    <tr>\n",
       "      <th>51</th>\n",
       "      <td>murderer</td>\n",
       "      <td>15</td>\n",
       "    </tr>\n",
       "    <tr>\n",
       "      <th>52</th>\n",
       "      <td>he must be found</td>\n",
       "      <td>15</td>\n",
       "    </tr>\n",
       "  </tbody>\n",
       "</table>\n",
       "</div>"
      ],
      "text/plain": [
       "               Word(s) Count\n",
       "48  music of the night     4\n",
       "49      inside my mind    15\n",
       "50  point of no return    15\n",
       "51            murderer    15\n",
       "52    he must be found    15"
      ]
     },
     "execution_count": 62,
     "metadata": {},
     "output_type": "execute_result"
    }
   ],
   "source": [
    "df6.tail()"
   ]
  },
  {
   "cell_type": "code",
   "execution_count": 63,
   "metadata": {},
   "outputs": [],
   "source": [
    "# copy the dataframe to clipboard. The excel argument copies in a CSV format, and I leave off the indices and header row  \n",
    "df6.to_clipboard(excel=True, index=False, header=False)"
   ]
  },
  {
   "cell_type": "markdown",
   "metadata": {},
   "source": [
    "# Creating Word Cloud in Browser\n",
    "This section automatically launches a web browser that goes to wordart.com and populates the text input with the words and frequency you have extracted from the movie script"
   ]
  },
  {
   "cell_type": "markdown",
   "metadata": {},
   "source": [
    "For the next part, you will have to download a driver. Every browser has its own driver. Selenium is just a tool which enables to you to \"talk\" to the browser. Here, I will be using Google Chrome as my preferred browser. You can download the ChromeDriver here: https://sites.google.com/a/chromium.org/chromedriver/downloads\n",
    "\n",
    "Then you have multiple options:\n",
    "1) add it to your system path https://zwbetz.com/download-chromedriver-binary-and-add-to-your-path-for-automated-functional-testing/\n",
    "2) put it in the same directory as your python script\n",
    "3) specify the location directly via executable_path like:\n",
    "driver = webdriver.Chrome(executable_path='C:/path/to/chromedriver.exe')\n",
    "\n",
    "Source: https://stackoverflow.com/questions/40555930/selenium-chromedriver-executable-needs-to-be-in-path"
   ]
  },
  {
   "cell_type": "markdown",
   "metadata": {},
   "source": [
    "I understand the following code is not super helpful in the sense that it takes more time and effort to automate this process than to navigate to wordart.com in your own browser and paste your words into the UI yourself. I did this for my self-learning and practicing concepts for using selenium, but feel free to skip over this section. "
   ]
  },
  {
   "cell_type": "code",
   "execution_count": 64,
   "metadata": {},
   "outputs": [],
   "source": [
    "from selenium.webdriver.chrome.options import Options\n",
    "chrome_options = Options()\n",
    "# incognito window\n",
    "# chrome_options.add_argument(\"--incognito\")\n",
    "chrome_options.add_argument('start-maximized')\n",
    "\n",
    "browser = webdriver.Chrome(options=chrome_options)\n",
    "browser.get('https://wordart.com/create')\n",
    "\n",
    "# When a page is loaded by the browser, the elements within that page may load at different time intervals. \n",
    "# If an element has not yet loaded in the webpage, the find_element_by_css_selector function may raise an NoSuchElementException exception. \n",
    "# Using waits, we can solve this issue. An implicit wait makes WebDriver poll the page for a certain amount of time when trying to locate an element, before throwing an exception.\n",
    "# https://selenium-python.readthedocs.io/waits.html\n",
    "browser.implicitly_wait(10) # seconds\n",
    "\n",
    "# select the Import button under the WORDS banner using the CSS selector\n",
    "words_import_elem = browser.find_element_by_css_selector('#root > div > div.app-body > div.app-body-pane.app-body-left-pane > div > div.accordion-section.selected > div.accordion-section-body > div > div:nth-child(1) > span.words-import > button') \n",
    "words_import_elem.click()\n",
    "# select the text box and paste in words and values that were copied onto the clipboard\n",
    "textbox_elem = browser.find_element_by_css_selector('body > div:nth-child(14) > div > div.modal.fade.show > div > div > div.modal-body > div:nth-child(1) > textarea')\n",
    "textbox_elem.click()\n",
    "import pyautogui #allows you to control your keyboard using python\n",
    "pyautogui.hotkey('ctrl', 'v')\n",
    "# make sure the CSV format box is checked if importing from Excel\n",
    "checkbox_elem = browser.find_element_by_css_selector('body > div:nth-child(14) > div > div.modal.fade.show > div > div > div.modal-body > div.words-import-options > span.component-checkbox.noselect.words-import-options-csv-format > label > div')\n",
    "checkbox_elem.click() \n",
    "# click the import words button to submit\n",
    "import_words_elem = browser.find_element_by_css_selector('body > div:nth-child(14) > div > div.modal.fade.show > div > div > div.modal-footer > button.btn.btn-dark')\n",
    "import_words_elem.click()\n",
    "# click the visualize button to visualize the word cloud\n",
    "visualize_elem = browser.find_element_by_css_selector('#root > div > div.app-body > div.app-body-pane.app-body-right-pane > div.sub-panel > button.btn.btn-danger')\n",
    "visualize_elem.click()\n"
   ]
  },
  {
   "cell_type": "markdown",
   "metadata": {},
   "source": [
    "# use opencv to make my own picture, like make mask negative and add a rose\n",
    "# use pyautogui to paste to wordart and design word cloud.   "
   ]
  },
  {
   "cell_type": "markdown",
   "metadata": {},
   "source": [
    "The last step is to consult with Emily about the most common words, importance of the  bigrams and collocations, and of course how the word cloud design.\n",
    "Like any major data science project, working closely with the subject matter experts is critical to a prject's success. [insert  something to elaborate on this idea]\n"
   ]
  },
  {
   "cell_type": "code",
   "execution_count": null,
   "metadata": {},
   "outputs": [],
   "source": []
  }
 ],
 "metadata": {
  "kernelspec": {
   "display_name": "Python 3",
   "language": "python",
   "name": "python3"
  },
  "language_info": {
   "codemirror_mode": {
    "name": "ipython",
    "version": 3
   },
   "file_extension": ".py",
   "mimetype": "text/x-python",
   "name": "python",
   "nbconvert_exporter": "python",
   "pygments_lexer": "ipython3",
   "version": "3.7.4"
  }
 },
 "nbformat": 4,
 "nbformat_minor": 4
}
